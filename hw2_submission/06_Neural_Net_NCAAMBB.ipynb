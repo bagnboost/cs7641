{
 "cells": [
  {
   "cell_type": "markdown",
   "metadata": {},
   "source": [
    "# Randomized optimization\n",
    "\n",
    "Plaigiarism note: I partially took this course in 2020 so some of the analysis and text is repeated."
   ]
  },
  {
   "cell_type": "markdown",
   "metadata": {},
   "source": [
    "mlrose procedure:\n",
    "\n",
    "1. Define a fitness function\n",
    "- This is the function we want to maximize or minimize, and is used to evaluate the fitness of a state vector.\n",
    "2. Define an optimization problem object\n",
    "3. Select and run a randomized optimization algorithm\n",
    "\n",
    "mlrose fitness functions: https://mlrose.readthedocs.io/en/stable/source/fitness.html"
   ]
  },
  {
   "cell_type": "markdown",
   "metadata": {},
   "source": [
    "## Load libraries"
   ]
  },
  {
   "cell_type": "code",
   "execution_count": 1,
   "metadata": {},
   "outputs": [],
   "source": [
    "import six\n",
    "import sys\n",
    "sys.modules['sklearn.externals.six'] = six\n",
    "import mlrose\n",
    "import numpy as np\n",
    "import pandas as pd\n",
    "import time\n",
    "from sklearn.preprocessing import normalize\n",
    "from sklearn.metrics import accuracy_score"
   ]
  },
  {
   "cell_type": "markdown",
   "metadata": {},
   "source": [
    "## Set directories"
   ]
  },
  {
   "cell_type": "code",
   "execution_count": 3,
   "metadata": {},
   "outputs": [],
   "source": [
    "directory_hw1 = \"/Users/mikepecorino/Documents/machine_learning/HW1/\"\n",
    "directory_hw2 = \"/Users/mikepecorino/Documents/machine_learning/HW2/\""
   ]
  },
  {
   "cell_type": "markdown",
   "metadata": {},
   "source": [
    "## Load inputs"
   ]
  },
  {
   "cell_type": "code",
   "execution_count": 9,
   "metadata": {},
   "outputs": [],
   "source": [
    "data_all = pd.read_csv(directory_hw1 + \"ncaa_all.csv\")\n",
    "train = pd.read_csv(directory_hw1 + \"ncaa_train.csv\")\n",
    "valid = pd.read_csv(directory_hw1 + \"ncaa_valid.csv\")\n",
    "test = pd.read_csv(directory_hw1 + \"ncaa_test.csv\")"
   ]
  },
  {
   "cell_type": "markdown",
   "metadata": {},
   "source": [
    "## Neural Network"
   ]
  },
  {
   "cell_type": "markdown",
   "metadata": {},
   "source": [
    "### Define features and response variable"
   ]
  },
  {
   "cell_type": "markdown",
   "metadata": {},
   "source": [
    "### Features list"
   ]
  },
  {
   "cell_type": "code",
   "execution_count": 5,
   "metadata": {},
   "outputs": [],
   "source": [
    "features = [\"game_win_perc_prop\", \n",
    "            \"game_starters_total_minutes_prop\", \"game_starters_prop_minutes_prop\", \"game_player_pts_10plus_prop\",\n",
    "            \"game_player_pts_15plus_prop\", \"game_player_pts_16plus_prop\", \"game_player_pts_17plus_prop\",\n",
    "            \"game_player_pts_18plus_prop\", \"game_player_pts_19plus_prop\", \"game_player_pts_20plus_prop\",\n",
    "            \"game_player_pts_21plus_prop\", \"game_player_pts_22plus_prop\", \"game_player_ast_3plus_prop\",\n",
    "            \"game_player_ast_5plus_prop\", \"game_player_ast_7plus_prop\",\n",
    "            \"game_player_orb_1plus_prop\", \"game_player_orb_2plus_prop\", \"game_player_orb_3plus_prop\",\n",
    "            \"game_player_drb_5plus_prop\", \"game_player_drb_7plus_prop\", \"game_player_drb_10plus_prop\",\n",
    "            \"game_gs_mean_prop\", \"game_gs_max_prop\", \"game_pos_prop\", \"game_pts_prop\", \"game_efficiency_prop\",\n",
    "            \"game_fg_attempted_prop\", \"game_ft_attempted_prop\", \"game_ft_made_prop\", \"game_stl_prop\",\n",
    "            \"game_tov_prop\",\"game_stl_tov_ratio_diff\", \"game_stl_tov_ratio_prop\", \"game_blk_prop\",\n",
    "            \"game_orb_prop\", \"game_drb_prop\", \"game_trb_prop\", \"game_ast_prop\", \"game_pf_diff\", \"game_pf_prop\",\n",
    "            \"home_indicator.x\", \"neutral_indicator\"]"
   ]
  },
  {
   "cell_type": "markdown",
   "metadata": {},
   "source": [
    "### Features data"
   ]
  },
  {
   "cell_type": "code",
   "execution_count": 12,
   "metadata": {},
   "outputs": [],
   "source": [
    "data_all_features = data_all[features]\n",
    "train_features = train[features]\n",
    "valid_features = valid[features]\n",
    "data_cv_features = train_features.append(valid_features)\n",
    "test_features = test[features]"
   ]
  },
  {
   "cell_type": "markdown",
   "metadata": {},
   "source": [
    "### Create adjusted response variable"
   ]
  },
  {
   "cell_type": "markdown",
   "metadata": {},
   "source": [
    "### Response variable"
   ]
  },
  {
   "cell_type": "code",
   "execution_count": 13,
   "metadata": {},
   "outputs": [],
   "source": [
    "response = \"win_indicator\""
   ]
  },
  {
   "cell_type": "markdown",
   "metadata": {},
   "source": [
    "### Response data"
   ]
  },
  {
   "cell_type": "code",
   "execution_count": 21,
   "metadata": {},
   "outputs": [],
   "source": [
    "data_all_response = data_all[response]\n",
    "train_response = train[response]\n",
    "valid_response = valid[response]\n",
    "data_cv_response = train_response.append(valid_response)\n",
    "test_response = test[response]"
   ]
  },
  {
   "cell_type": "markdown",
   "metadata": {},
   "source": [
    "### Normalize data"
   ]
  },
  {
   "cell_type": "code",
   "execution_count": 22,
   "metadata": {},
   "outputs": [],
   "source": [
    "data_cv_features_normalized = normalize(data_cv_features)\n",
    "test_features_normalized = normalize(test_features)"
   ]
  },
  {
   "cell_type": "code",
   "execution_count": null,
   "metadata": {},
   "outputs": [
    {
     "name": "stdout",
     "output_type": "stream",
     "text": [
      "Working on iter: 1 Algorithm: random_hill_climb Random restart: 10 Max attempt: 10 Max iter: 1\n",
      "Done in time: 28.751885175704956 with test score: 0.5545939165882722\n",
      "\n",
      "\n",
      "Working on iter: 2 Algorithm: random_hill_climb Random restart: 10 Max attempt: 10 Max iter: 10\n",
      "Done in time: 186.17395567893982 with test score: 0.5545939165882722\n",
      "\n",
      "\n",
      "Working on iter: 3 Algorithm: random_hill_climb Random restart: 10 Max attempt: 10 Max iter: 20\n",
      "Done in time: 357.0073547363281 with test score: 0.5545939165882722\n",
      "\n",
      "\n",
      "Working on iter: 4 Algorithm: random_hill_climb Random restart: 10 Max attempt: 10 Max iter: 30\n",
      "Done in time: 504.7341079711914 with test score: 0.5545939165882722\n",
      "\n",
      "\n",
      "Working on iter: 5 Algorithm: random_hill_climb Random restart: 10 Max attempt: 10 Max iter: 40\n",
      "Done in time: 707.4204082489014 with test score: 0.5545939165882722\n",
      "\n",
      "\n",
      "Working on iter: 6 Algorithm: random_hill_climb Random restart: 10 Max attempt: 10 Max iter: 50\n",
      "Done in time: 845.0975711345673 with test score: 0.5545939165882722\n",
      "\n",
      "\n",
      "Working on iter: 7 Algorithm: simulated_annealing Random restart: 10 Max attempt: 10 Max iter: 1\n",
      "Done in time: 3.4012749195098877 with test score: 0.5545939165882722\n",
      "\n",
      "\n",
      "Working on iter: 8 Algorithm: simulated_annealing Random restart: 10 Max attempt: 10 Max iter: 10\n",
      "Done in time: 22.91177797317505 with test score: 0.5545939165882722\n",
      "\n",
      "\n",
      "Working on iter: 9 Algorithm: simulated_annealing Random restart: 10 Max attempt: 10 Max iter: 20\n",
      "Done in time: 45.09301710128784 with test score: 0.5545939165882722\n",
      "\n",
      "\n",
      "Working on iter: 10 Algorithm: simulated_annealing Random restart: 10 Max attempt: 10 Max iter: 30\n",
      "Done in time: 67.64406180381775 with test score: 0.5545939165882722\n",
      "\n",
      "\n",
      "Working on iter: 11 Algorithm: simulated_annealing Random restart: 10 Max attempt: 10 Max iter: 40\n",
      "Done in time: 90.78603792190552 with test score: 0.5545939165882722\n",
      "\n",
      "\n",
      "Working on iter: 12 Algorithm: simulated_annealing Random restart: 10 Max attempt: 10 Max iter: 50\n",
      "Done in time: 109.26320695877075 with test score: 0.5545939165882722\n",
      "\n",
      "\n",
      "Working on iter: 13 Algorithm: genetic_alg Random restart: 10 Max attempt: 10 Max iter: 1\n",
      "Done in time: 436.8419420719147 with test score: 0.573283160865475\n",
      "\n",
      "\n",
      "Working on iter: 14 Algorithm: genetic_alg Random restart: 10 Max attempt: 10 Max iter: 10\n",
      "Done in time: 2431.9048142433167 with test score: 0.622640326121041\n",
      "\n",
      "\n",
      "Working on iter: 15 Algorithm: genetic_alg Random restart: 10 Max attempt: 10 Max iter: 20\n",
      "Done in time: 4618.81725692749 with test score: 0.6063342740671057\n",
      "\n",
      "\n",
      "Working on iter: 16 Algorithm: genetic_alg Random restart: 10 Max attempt: 10 Max iter: 30\n"
     ]
    }
   ],
   "source": [
    "#Inputs for the Neural Network\n",
    "#- - - - - - - - - - - - - - - - - - - - - - - - - - - - - -\n",
    "algos = [\"random_hill_climb\", \"simulated_annealing\", \"genetic_alg\", \"gradient_descent\"]\n",
    "random_state = 28\n",
    "pop_size = 200\n",
    "mutation_prob = 0.1\n",
    "#Simulated Annealing: decay schedule for temperature\n",
    "schedule = mlrose.ExpDecay(init_temp = 100,\n",
    "                           exp_const = .05,\n",
    "                           min_temp = 1)\n",
    "\n",
    "#Initialize an empty data frame for recording results\n",
    "#- - - - - - - - - - - - - - - - - - - - - - - - - - - - - -\n",
    "mlrose_nn = pd.DataFrame(columns = [\"algorithm\",\n",
    "                                    \"random_restart\",\n",
    "                                    \"max_attempt\",\n",
    "                                    \"max_iter\",\n",
    "                                    \"time\",\n",
    "                                    \"function_evaluations\"\n",
    "                                    \"train_score\",\n",
    "                                    \"test_score\"])\n",
    "\n",
    "#Loop\n",
    "#- - - - - - - - - - - - - - - - - - - - - - - - - - - - - -\n",
    "#Start an iteration counter\n",
    "iter = 1\n",
    "\n",
    "#For each combination of algorithm, max attempt, max iter, and random restarts\n",
    "for algo in algos:\n",
    "    for max_attempt in [10]:\n",
    "        for max_iter in [1, 10, 20, 30, 40, 50]:\n",
    "            for random_restart in [10]:\n",
    "                \n",
    "                #Print message\n",
    "                print(\"Working on iter:\", iter,\n",
    "                      \"Algorithm:\", algo,\n",
    "                      \"Random restart:\", random_restart,\n",
    "                      \"Max attempt:\", max_attempt,\n",
    "                      \"Max iter:\", max_iter)\n",
    "                \n",
    "                #Start the timer\n",
    "                start = time.time()\n",
    "        \n",
    "                #Create the model object\n",
    "                nn_model = mlrose.NeuralNetwork(hidden_nodes = [1500],\n",
    "                                                activation = \"relu\",\n",
    "                                                algorithm = algo,\n",
    "                                                max_iters = max_iter,\n",
    "                                                bias = True,\n",
    "                                                is_classifier = True,\n",
    "                                                learning_rate = 0.0001,\n",
    "                                                early_stopping = True,\n",
    "                                                clip_max = 2,\n",
    "                                                max_attempts = max_attempt,\n",
    "                                                random_state = random_state,\n",
    "                                                pop_size = pop_size,\n",
    "                                                mutation_prob = mutation_prob,\n",
    "                                                schedule = schedule,\n",
    "                                                restarts = random_restart,\n",
    "                                                curve = True)\n",
    "            \n",
    "                \n",
    "                #Fit the model\n",
    "                nn_model.fit(data_cv_features_normalized, data_cv_response)\n",
    "                \n",
    "                #Get the number of function evaluations\n",
    "                function_evaluations = np.argmax(nn_model.fitness_curve) + 1\n",
    "                \n",
    "                #End the timer\n",
    "                end = time.time()\n",
    "                \n",
    "                #Get the total model fitting time\n",
    "                fit_time = end - start\n",
    "                \n",
    "                #Score the model on train and test data\n",
    "                train_pred = nn_model.predict(data_cv_features_normalized)\n",
    "                train_score = accuracy_score(data_cv_response, train_pred)\n",
    "                test_pred = nn_model.predict(test_features_normalized)\n",
    "                test_score = accuracy_score(test_response, test_pred)\n",
    "                \n",
    "                #Add to results list\n",
    "                mlrose_nn = mlrose_nn.append({\"algorithm\": algo,\n",
    "                                              \"random_restart\": random_restart,\n",
    "                                              \"max_attempt\": max_attempt,\n",
    "                                              \"max_iter\": max_iter,\n",
    "                                              \"time\": fit_time,\n",
    "                                              \"function_evaluations\": function_evaluations,\n",
    "                                              \"train_score\": train_score,\n",
    "                                              \"test_score\": test_score},\n",
    "                                             ignore_index = True)\n",
    "                \n",
    "                #Increment the iteration counter\n",
    "                iter = iter + 1\n",
    "                print(\"Done in time:\", fit_time, \"with test score:\", test_score)\n",
    "                print(\"\\n\")\n",
    "\n",
    "#Done\n",
    "print(\"Done\")\n",
    "\n",
    "#Output\n",
    "mlrose_nn.to_csv(directory_hw2 + \"sensor_randomized_opt_neural_net_ncaa.csv\", index = False)"
   ]
  },
  {
   "cell_type": "code",
   "execution_count": null,
   "metadata": {},
   "outputs": [],
   "source": []
  }
 ],
 "metadata": {
  "kernelspec": {
   "display_name": "Python 3",
   "language": "python",
   "name": "python3"
  },
  "language_info": {
   "codemirror_mode": {
    "name": "ipython",
    "version": 3
   },
   "file_extension": ".py",
   "mimetype": "text/x-python",
   "name": "python",
   "nbconvert_exporter": "python",
   "pygments_lexer": "ipython3",
   "version": "3.8.5"
  }
 },
 "nbformat": 4,
 "nbformat_minor": 4
}
