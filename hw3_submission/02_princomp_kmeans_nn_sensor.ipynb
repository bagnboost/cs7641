{
 "cells": [
  {
   "cell_type": "markdown",
   "metadata": {},
   "source": [
    "# Neural Network with Principal Components on the Sensor dataset"
   ]
  },
  {
   "cell_type": "markdown",
   "metadata": {},
   "source": [
    "## Load libraries"
   ]
  },
  {
   "cell_type": "code",
   "execution_count": 5,
   "metadata": {},
   "outputs": [],
   "source": [
    "import numpy as np\n",
    "import pandas as pd\n",
    "import matplotlib.pyplot as plt\n",
    "import time\n",
    "from sklearn.preprocessing import normalize\n",
    "from sklearn.neural_network import MLPClassifier"
   ]
  },
  {
   "cell_type": "markdown",
   "metadata": {},
   "source": [
    "## Set directories"
   ]
  },
  {
   "cell_type": "code",
   "execution_count": 6,
   "metadata": {},
   "outputs": [],
   "source": [
    "directory_hw1 = \"/Users/mikepecorino/Documents/machine_learning/HW1/\"\n",
    "directory_hw3 = \"/Users/mikepecorino/Documents/machine_learning/HW3/\""
   ]
  },
  {
   "cell_type": "markdown",
   "metadata": {},
   "source": [
    "## Load inputs"
   ]
  },
  {
   "cell_type": "code",
   "execution_count": 9,
   "metadata": {},
   "outputs": [],
   "source": [
    "data_all = pd.read_csv(directory_hw3 + \"sensor_princomp_nn_input_with_cluster.csv\")"
   ]
  },
  {
   "cell_type": "markdown",
   "metadata": {},
   "source": [
    "## Train/Test split"
   ]
  },
  {
   "cell_type": "code",
   "execution_count": 10,
   "metadata": {},
   "outputs": [],
   "source": [
    "train = data_all[data_all[\"tag\"].isin([\"train\", \"valid\"])]\n",
    "test = data_all[data_all[\"tag\"] == \"test\"]"
   ]
  },
  {
   "cell_type": "markdown",
   "metadata": {},
   "source": [
    "## Define features and response variable"
   ]
  },
  {
   "cell_type": "markdown",
   "metadata": {},
   "source": [
    "### Features list"
   ]
  },
  {
   "cell_type": "code",
   "execution_count": 11,
   "metadata": {},
   "outputs": [],
   "source": [
    "features = data_all.columns[data_all.columns.isin([\"response\", \"tag\"]) == False]"
   ]
  },
  {
   "cell_type": "markdown",
   "metadata": {},
   "source": [
    "### Features data"
   ]
  },
  {
   "cell_type": "code",
   "execution_count": 13,
   "metadata": {},
   "outputs": [],
   "source": [
    "data_all_features = data_all[features]\n",
    "train_features = train[features]\n",
    "test_features = test[features]"
   ]
  },
  {
   "cell_type": "markdown",
   "metadata": {},
   "source": [
    "### Response variable"
   ]
  },
  {
   "cell_type": "code",
   "execution_count": 14,
   "metadata": {},
   "outputs": [],
   "source": [
    "response = \"response\""
   ]
  },
  {
   "cell_type": "markdown",
   "metadata": {},
   "source": [
    "### Response data"
   ]
  },
  {
   "cell_type": "code",
   "execution_count": 15,
   "metadata": {},
   "outputs": [],
   "source": [
    "data_all_response = data_all[response]\n",
    "train_response = train[response]\n",
    "test_response = test[response]"
   ]
  },
  {
   "cell_type": "markdown",
   "metadata": {},
   "source": [
    "## Get best neural net hyperparameters from HW1"
   ]
  },
  {
   "cell_type": "code",
   "execution_count": 16,
   "metadata": {},
   "outputs": [],
   "source": [
    "neural_network_results = pd.read_csv(directory_hw1 + \"sensor_neural_net_grid_search.csv\")\n",
    "out_fold_cv_summary = neural_network_results.groupby([\"hidden_layer_size\", \"solver\", \"activation\", \"alpha\"])[\"out_fold_accuracy\"].agg([\"mean\"]).sort_values(by = [\"mean\"], ascending = False)\n",
    "optimal_results = out_fold_cv_summary.index[np.argmax(out_fold_cv_summary[\"mean\"])]\n",
    "hidden_layer_size_opt = optimal_results[0]\n",
    "solver_opt = optimal_results[1]\n",
    "activation_opt = optimal_results[2]\n",
    "alpha_opt = optimal_results[3]"
   ]
  },
  {
   "cell_type": "markdown",
   "metadata": {},
   "source": [
    "## Optimizing the number of components"
   ]
  },
  {
   "cell_type": "code",
   "execution_count": 22,
   "metadata": {},
   "outputs": [
    {
     "name": "stdout",
     "output_type": "stream",
     "text": [
      "  hidden_layer_size solver activation  alpha  train_accuracy  test_accuracy  \\\n",
      "0              1000   adam       relu   0.02        0.645267        0.67187   \n",
      "\n",
      "       time  \n",
      "0  1.163226   \n",
      "\n"
     ]
    }
   ],
   "source": [
    "#Initialize an empty data frame for recording results\n",
    "neural_network_results = pd.DataFrame(columns = [\"hidden_layer_size\",\n",
    "                                                 \"solver\",\n",
    "                                                 \"activation\",\n",
    "                                                 \"alpha\",\n",
    "                                                 \"train_accuracy\",\n",
    "                                                 \"test_accuracy\",\n",
    "                                                 \"time\"\n",
    "                                                 ])\n",
    "\n",
    "#Get the random projection\n",
    "start_time = time.time()\n",
    "\n",
    "#Get the neural net object\n",
    "neural_network = MLPClassifier(solver = solver_opt, #lbfgs, adam, sgd\n",
    "                               activation = activation_opt, #identity, logistic, tanh, relu\n",
    "                               alpha = alpha_opt,\n",
    "                               hidden_layer_sizes = (hidden_layer_size_opt,),\n",
    "                               batch_size = \"auto\",\n",
    "                               learning_rate = \"constant\",\n",
    "                               learning_rate_init = 0.001,\n",
    "                               power_t = 0.5,\n",
    "                               max_iter = 200,\n",
    "                               shuffle = True,\n",
    "                               random_state = 28,\n",
    "                               tol = 0.0001,\n",
    "                               verbose = False,\n",
    "                               warm_start = False,\n",
    "                               momentum = 0.9,\n",
    "                               nesterovs_momentum = True,\n",
    "                               early_stopping = True,\n",
    "                               validation_fraction = 0.1,\n",
    "                               beta_1 = 0.9,\n",
    "                               beta_2 = 0.999,\n",
    "                               epsilon = 1e-08,\n",
    "                               n_iter_no_change = 10,\n",
    "                               max_fun = 15000)\n",
    "    \n",
    "#Fit the model\n",
    "neural_network.fit(train_features, train_response) \n",
    "    \n",
    "#Evaluate the model\n",
    "#In fold\n",
    "train_accuracy = neural_network.score(train_features, train_response)\n",
    "#Out of fold\n",
    "test_accuracy = neural_network.score(test_features, test_response)\n",
    "\n",
    "end_time = time.time()\n",
    "total_time = end_time - start_time\n",
    "\n",
    "#Add to results list\n",
    "neural_network_results = neural_network_results.append({\"hidden_layer_size\": hidden_layer_size_opt,\n",
    "                                                        \"solver\": solver_opt,\n",
    "                                                        \"activation\": activation_opt,\n",
    "                                                        \"alpha\": alpha_opt,\n",
    "                                                        \"train_accuracy\": train_accuracy,\n",
    "                                                        \"test_accuracy\": test_accuracy,\n",
    "                                                        \"time\": total_time},\n",
    "                                                        ignore_index = True)\n",
    "print(neural_network_results, \"\\n\")"
   ]
  },
  {
   "cell_type": "code",
   "execution_count": null,
   "metadata": {},
   "outputs": [],
   "source": []
  }
 ],
 "metadata": {
  "kernelspec": {
   "display_name": "Python 3",
   "language": "python",
   "name": "python3"
  },
  "language_info": {
   "codemirror_mode": {
    "name": "ipython",
    "version": 3
   },
   "file_extension": ".py",
   "mimetype": "text/x-python",
   "name": "python",
   "nbconvert_exporter": "python",
   "pygments_lexer": "ipython3",
   "version": "3.8.5"
  }
 },
 "nbformat": 4,
 "nbformat_minor": 4
}
