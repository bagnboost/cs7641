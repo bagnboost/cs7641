{
 "cells": [
  {
   "cell_type": "markdown",
   "metadata": {},
   "source": [
    "# Randomized Projection on the Sensor dataset"
   ]
  },
  {
   "cell_type": "markdown",
   "metadata": {},
   "source": [
    "scitkit learn random projection: https://scikit-learn.org/stable/modules/random_projection.html"
   ]
  },
  {
   "cell_type": "markdown",
   "metadata": {},
   "source": [
    "## Load libraries"
   ]
  },
  {
   "cell_type": "code",
   "execution_count": 1,
   "metadata": {},
   "outputs": [],
   "source": [
    "import numpy as np\n",
    "import pandas as pd\n",
    "import matplotlib.pyplot as plt\n",
    "import time\n",
    "from sklearn import random_projection\n",
    "from sklearn.preprocessing import normalize\n",
    "from sklearn.neural_network import MLPClassifier"
   ]
  },
  {
   "cell_type": "markdown",
   "metadata": {},
   "source": [
    "## Set directories"
   ]
  },
  {
   "cell_type": "code",
   "execution_count": 2,
   "metadata": {},
   "outputs": [],
   "source": [
    "directory_hw1 = \"/Users/mikepecorino/Documents/machine_learning/HW1/\"\n",
    "directory_hw3 = \"/Users/mikepecorino/Documents/machine_learning/HW3/\""
   ]
  },
  {
   "cell_type": "markdown",
   "metadata": {},
   "source": [
    "## Load inputs"
   ]
  },
  {
   "cell_type": "code",
   "execution_count": 3,
   "metadata": {},
   "outputs": [],
   "source": [
    "data_all = pd.read_csv(directory_hw3 + \"sensor_all.csv\")"
   ]
  },
  {
   "cell_type": "markdown",
   "metadata": {},
   "source": [
    "## Train/Test split"
   ]
  },
  {
   "cell_type": "code",
   "execution_count": 4,
   "metadata": {},
   "outputs": [],
   "source": [
    "train = data_all[data_all[\"tag\"].isin([\"train\", \"valid\"])]\n",
    "test = data_all[data_all[\"tag\"] == \"test\"]"
   ]
  },
  {
   "cell_type": "markdown",
   "metadata": {},
   "source": [
    "## Define features and response variable"
   ]
  },
  {
   "cell_type": "markdown",
   "metadata": {},
   "source": [
    "### Features list"
   ]
  },
  {
   "cell_type": "code",
   "execution_count": 5,
   "metadata": {},
   "outputs": [],
   "source": [
    "features = data_all.columns[data_all.columns.isin([\"subject\", \"activity_raw\", \"activity\", \"tag\", \"fold\", \"response_prop\"]) == False]"
   ]
  },
  {
   "cell_type": "markdown",
   "metadata": {},
   "source": [
    "### Features data"
   ]
  },
  {
   "cell_type": "code",
   "execution_count": 6,
   "metadata": {},
   "outputs": [],
   "source": [
    "data_all_features = data_all[features]\n",
    "train_features = train[features]\n",
    "test_features = test[features]"
   ]
  },
  {
   "cell_type": "markdown",
   "metadata": {},
   "source": [
    "### Response variable"
   ]
  },
  {
   "cell_type": "code",
   "execution_count": 7,
   "metadata": {},
   "outputs": [],
   "source": [
    "response = \"activity\""
   ]
  },
  {
   "cell_type": "markdown",
   "metadata": {},
   "source": [
    "### Response data"
   ]
  },
  {
   "cell_type": "code",
   "execution_count": 8,
   "metadata": {},
   "outputs": [],
   "source": [
    "data_all_response = data_all[response]\n",
    "train_response = train[response]\n",
    "test_response = test[response]"
   ]
  },
  {
   "cell_type": "markdown",
   "metadata": {},
   "source": [
    "## Normalize data"
   ]
  },
  {
   "cell_type": "code",
   "execution_count": 9,
   "metadata": {},
   "outputs": [],
   "source": [
    "data_all_features_normalized = normalize(data_all_features)\n",
    "train_features_normalized = normalize(train_features)\n",
    "test_features_normalized = normalize(test_features)"
   ]
  },
  {
   "cell_type": "markdown",
   "metadata": {},
   "source": [
    "## Get best neural net hyperparameters from HW1"
   ]
  },
  {
   "cell_type": "code",
   "execution_count": 10,
   "metadata": {},
   "outputs": [],
   "source": [
    "neural_network_results = pd.read_csv(directory_hw1 + \"sensor_neural_net_grid_search.csv\")\n",
    "out_fold_cv_summary = neural_network_results.groupby([\"hidden_layer_size\", \"solver\", \"activation\", \"alpha\"])[\"out_fold_accuracy\"].agg([\"mean\"]).sort_values(by = [\"mean\"], ascending = False)\n",
    "optimal_results = out_fold_cv_summary.index[np.argmax(out_fold_cv_summary[\"mean\"])]\n",
    "hidden_layer_size_opt = optimal_results[0]\n",
    "solver_opt = optimal_results[1]\n",
    "activation_opt = optimal_results[2]\n",
    "alpha_opt = optimal_results[3]"
   ]
  },
  {
   "cell_type": "markdown",
   "metadata": {},
   "source": [
    "## Optimizing the number of components"
   ]
  },
  {
   "cell_type": "code",
   "execution_count": 11,
   "metadata": {},
   "outputs": [
    {
     "name": "stdout",
     "output_type": "stream",
     "text": [
      "Iter: 1 | number of components: 10\n",
      "  iter_counter hidden_layer_size solver activation  alpha  train_accuracy  \\\n",
      "0            1              1000   adam       relu   0.02        0.775843   \n",
      "\n",
      "   test_accuracy      time  n_components  \n",
      "0       0.743129  4.636758          10.0   \n",
      "\n",
      "Iter: 2 | number of components: 60\n",
      "  iter_counter hidden_layer_size solver activation  alpha  train_accuracy  \\\n",
      "0            1              1000   adam       relu   0.02        0.775843   \n",
      "1            2              1000   adam       relu   0.02        0.957018   \n",
      "\n",
      "   test_accuracy      time  n_components  \n",
      "0       0.743129  4.636758          10.0  \n",
      "1       0.921276  7.600787          60.0   \n",
      "\n",
      "Iter: 3 | number of components: 110\n",
      "  iter_counter hidden_layer_size solver activation  alpha  train_accuracy  \\\n",
      "0            1              1000   adam       relu   0.02        0.775843   \n",
      "1            2              1000   adam       relu   0.02        0.957018   \n",
      "2            3              1000   adam       relu   0.02        0.958379   \n",
      "\n",
      "   test_accuracy      time  n_components  \n",
      "0       0.743129  4.636758          10.0  \n",
      "1       0.921276  7.600787          60.0  \n",
      "2       0.922633  6.328807         110.0   \n",
      "\n",
      "Iter: 4 | number of components: 160\n",
      "  iter_counter hidden_layer_size solver activation  alpha  train_accuracy  \\\n",
      "0            1              1000   adam       relu   0.02        0.775843   \n",
      "1            2              1000   adam       relu   0.02        0.957018   \n",
      "2            3              1000   adam       relu   0.02        0.958379   \n",
      "3            4              1000   adam       relu   0.02        0.980413   \n",
      "\n",
      "   test_accuracy       time  n_components  \n",
      "0       0.743129   4.636758          10.0  \n",
      "1       0.921276   7.600787          60.0  \n",
      "2       0.922633   6.328807         110.0  \n",
      "3       0.949779  18.954276         160.0   \n",
      "\n",
      "Iter: 5 | number of components: 210\n",
      "  iter_counter hidden_layer_size solver activation  alpha  train_accuracy  \\\n",
      "0            1              1000   adam       relu   0.02        0.775843   \n",
      "1            2              1000   adam       relu   0.02        0.957018   \n",
      "2            3              1000   adam       relu   0.02        0.958379   \n",
      "3            4              1000   adam       relu   0.02        0.980413   \n",
      "4            5              1000   adam       relu   0.02        0.978645   \n",
      "\n",
      "   test_accuracy       time  n_components  \n",
      "0       0.743129   4.636758          10.0  \n",
      "1       0.921276   7.600787          60.0  \n",
      "2       0.922633   6.328807         110.0  \n",
      "3       0.949779  18.954276         160.0  \n",
      "4       0.951137  18.065233         210.0   \n",
      "\n",
      "Iter: 6 | number of components: 260\n",
      "  iter_counter hidden_layer_size solver activation  alpha  train_accuracy  \\\n",
      "0            1              1000   adam       relu   0.02        0.775843   \n",
      "1            2              1000   adam       relu   0.02        0.957018   \n",
      "2            3              1000   adam       relu   0.02        0.958379   \n",
      "3            4              1000   adam       relu   0.02        0.980413   \n",
      "4            5              1000   adam       relu   0.02        0.978645   \n",
      "5            6              1000   adam       relu   0.02        0.976061   \n",
      "\n",
      "   test_accuracy       time  n_components  \n",
      "0       0.743129   4.636758          10.0  \n",
      "1       0.921276   7.600787          60.0  \n",
      "2       0.922633   6.328807         110.0  \n",
      "3       0.949779  18.954276         160.0  \n",
      "4       0.951137  18.065233         210.0  \n",
      "5       0.937903  15.090705         260.0   \n",
      "\n",
      "Iter: 7 | number of components: 310\n",
      "  iter_counter hidden_layer_size solver activation  alpha  train_accuracy  \\\n",
      "0            1              1000   adam       relu   0.02        0.775843   \n",
      "1            2              1000   adam       relu   0.02        0.957018   \n",
      "2            3              1000   adam       relu   0.02        0.958379   \n",
      "3            4              1000   adam       relu   0.02        0.980413   \n",
      "4            5              1000   adam       relu   0.02        0.978645   \n",
      "5            6              1000   adam       relu   0.02        0.976061   \n",
      "6            7              1000   adam       relu   0.02        0.978781   \n",
      "\n",
      "   test_accuracy       time  n_components  \n",
      "0       0.743129   4.636758          10.0  \n",
      "1       0.921276   7.600787          60.0  \n",
      "2       0.922633   6.328807         110.0  \n",
      "3       0.949779  18.954276         160.0  \n",
      "4       0.951137  18.065233         210.0  \n",
      "5       0.937903  15.090705         260.0  \n",
      "6       0.947404  20.572877         310.0   \n",
      "\n",
      "Iter: 8 | number of components: 360\n",
      "  iter_counter hidden_layer_size solver activation  alpha  train_accuracy  \\\n",
      "0            1              1000   adam       relu   0.02        0.775843   \n",
      "1            2              1000   adam       relu   0.02        0.957018   \n",
      "2            3              1000   adam       relu   0.02        0.958379   \n",
      "3            4              1000   adam       relu   0.02        0.980413   \n",
      "4            5              1000   adam       relu   0.02        0.978645   \n",
      "5            6              1000   adam       relu   0.02        0.976061   \n",
      "6            7              1000   adam       relu   0.02        0.978781   \n",
      "7            8              1000   adam       relu   0.02        0.976877   \n",
      "\n",
      "   test_accuracy       time  n_components  \n",
      "0       0.743129   4.636758          10.0  \n",
      "1       0.921276   7.600787          60.0  \n",
      "2       0.922633   6.328807         110.0  \n",
      "3       0.949779  18.954276         160.0  \n",
      "4       0.951137  18.065233         210.0  \n",
      "5       0.937903  15.090705         260.0  \n",
      "6       0.947404  20.572877         310.0  \n",
      "7       0.943672  19.107097         360.0   \n",
      "\n",
      "Iter: 9 | number of components: 410\n",
      "  iter_counter hidden_layer_size solver activation  alpha  train_accuracy  \\\n",
      "0            1              1000   adam       relu   0.02        0.775843   \n",
      "1            2              1000   adam       relu   0.02        0.957018   \n",
      "2            3              1000   adam       relu   0.02        0.958379   \n",
      "3            4              1000   adam       relu   0.02        0.980413   \n",
      "4            5              1000   adam       relu   0.02        0.978645   \n",
      "5            6              1000   adam       relu   0.02        0.976061   \n",
      "6            7              1000   adam       relu   0.02        0.978781   \n",
      "7            8              1000   adam       relu   0.02        0.976877   \n",
      "8            9              1000   adam       relu   0.02        0.977557   \n",
      "\n",
      "   test_accuracy       time  n_components  \n",
      "0       0.743129   4.636758          10.0  \n",
      "1       0.921276   7.600787          60.0  \n",
      "2       0.922633   6.328807         110.0  \n",
      "3       0.949779  18.954276         160.0  \n",
      "4       0.951137  18.065233         210.0  \n",
      "5       0.937903  15.090705         260.0  \n",
      "6       0.947404  20.572877         310.0  \n",
      "7       0.943672  19.107097         360.0  \n",
      "8       0.952155  20.754558         410.0   \n",
      "\n",
      "Iter: 10 | number of components: 460\n",
      "  iter_counter hidden_layer_size solver activation  alpha  train_accuracy  \\\n",
      "0            1              1000   adam       relu   0.02        0.775843   \n",
      "1            2              1000   adam       relu   0.02        0.957018   \n",
      "2            3              1000   adam       relu   0.02        0.958379   \n",
      "3            4              1000   adam       relu   0.02        0.980413   \n",
      "4            5              1000   adam       relu   0.02        0.978645   \n",
      "5            6              1000   adam       relu   0.02        0.976061   \n",
      "6            7              1000   adam       relu   0.02        0.978781   \n",
      "7            8              1000   adam       relu   0.02        0.976877   \n",
      "8            9              1000   adam       relu   0.02        0.977557   \n",
      "9           10              1000   adam       relu   0.02        0.979189   \n",
      "\n",
      "   test_accuracy       time  n_components  \n",
      "0       0.743129   4.636758          10.0  \n",
      "1       0.921276   7.600787          60.0  \n",
      "2       0.922633   6.328807         110.0  \n",
      "3       0.949779  18.954276         160.0  \n",
      "4       0.951137  18.065233         210.0  \n",
      "5       0.937903  15.090705         260.0  \n",
      "6       0.947404  20.572877         310.0  \n",
      "7       0.943672  19.107097         360.0  \n",
      "8       0.952155  20.754558         410.0  \n",
      "9       0.954869  25.725847         460.0   \n",
      "\n",
      "Iter: 11 | number of components: 510\n"
     ]
    },
    {
     "name": "stdout",
     "output_type": "stream",
     "text": [
      "   iter_counter hidden_layer_size solver activation  alpha  train_accuracy  \\\n",
      "0             1              1000   adam       relu   0.02        0.775843   \n",
      "1             2              1000   adam       relu   0.02        0.957018   \n",
      "2             3              1000   adam       relu   0.02        0.958379   \n",
      "3             4              1000   adam       relu   0.02        0.980413   \n",
      "4             5              1000   adam       relu   0.02        0.978645   \n",
      "5             6              1000   adam       relu   0.02        0.976061   \n",
      "6             7              1000   adam       relu   0.02        0.978781   \n",
      "7             8              1000   adam       relu   0.02        0.976877   \n",
      "8             9              1000   adam       relu   0.02        0.977557   \n",
      "9            10              1000   adam       relu   0.02        0.979189   \n",
      "10           11              1000   adam       relu   0.02        0.972252   \n",
      "\n",
      "    test_accuracy       time  n_components  \n",
      "0        0.743129   4.636758          10.0  \n",
      "1        0.921276   7.600787          60.0  \n",
      "2        0.922633   6.328807         110.0  \n",
      "3        0.949779  18.954276         160.0  \n",
      "4        0.951137  18.065233         210.0  \n",
      "5        0.937903  15.090705         260.0  \n",
      "6        0.947404  20.572877         310.0  \n",
      "7        0.943672  19.107097         360.0  \n",
      "8        0.952155  20.754558         410.0  \n",
      "9        0.954869  25.725847         460.0  \n",
      "10       0.947065  15.994982         510.0   \n",
      "\n",
      "Iter: 12 | number of components: 560\n",
      "   iter_counter hidden_layer_size solver activation  alpha  train_accuracy  \\\n",
      "0             1              1000   adam       relu   0.02        0.775843   \n",
      "1             2              1000   adam       relu   0.02        0.957018   \n",
      "2             3              1000   adam       relu   0.02        0.958379   \n",
      "3             4              1000   adam       relu   0.02        0.980413   \n",
      "4             5              1000   adam       relu   0.02        0.978645   \n",
      "5             6              1000   adam       relu   0.02        0.976061   \n",
      "6             7              1000   adam       relu   0.02        0.978781   \n",
      "7             8              1000   adam       relu   0.02        0.976877   \n",
      "8             9              1000   adam       relu   0.02        0.977557   \n",
      "9            10              1000   adam       relu   0.02        0.979189   \n",
      "10           11              1000   adam       relu   0.02        0.972252   \n",
      "11           12              1000   adam       relu   0.02        0.971708   \n",
      "\n",
      "    test_accuracy       time  n_components  \n",
      "0        0.743129   4.636758          10.0  \n",
      "1        0.921276   7.600787          60.0  \n",
      "2        0.922633   6.328807         110.0  \n",
      "3        0.949779  18.954276         160.0  \n",
      "4        0.951137  18.065233         210.0  \n",
      "5        0.937903  15.090705         260.0  \n",
      "6        0.947404  20.572877         310.0  \n",
      "7        0.943672  19.107097         360.0  \n",
      "8        0.952155  20.754558         410.0  \n",
      "9        0.954869  25.725847         460.0  \n",
      "10       0.947065  15.994982         510.0  \n",
      "11       0.947743  16.031185         560.0   \n",
      "\n"
     ]
    }
   ],
   "source": [
    "#Initialize an empty data frame for recording results\n",
    "neural_network_results = pd.DataFrame(columns = [\"iter_counter\",\n",
    "                                                 \"hidden_layer_size\",\n",
    "                                                 \"solver\",\n",
    "                                                 \"activation\",\n",
    "                                                 \"alpha\",\n",
    "                                                 \"train_accuracy\",\n",
    "                                                 \"test_accuracy\",\n",
    "                                                 \"time\"\n",
    "                                                 ])\n",
    "\n",
    "#Set hyperparameter space\n",
    "n_components = range(10, 610, 50)\n",
    "\n",
    "#Start an iteration counter\n",
    "iter_counter = 0\n",
    "\n",
    "#For each alpha, hidden layer size, and fold...\n",
    "#(using fixed solver and activiation function for now)\n",
    "for n_component in n_components:\n",
    "    \n",
    "    #Increment the counter\n",
    "    iter_counter = iter_counter + 1\n",
    "    \n",
    "    #Output message\n",
    "    print(\"Iter:\", iter_counter,\n",
    "            \"| number of components:\", n_component)\n",
    "\n",
    "    #Get the random projection\n",
    "    start_time = time.time()\n",
    "    \n",
    "    transformer = random_projection.GaussianRandomProjection(n_components = n_component,\n",
    "                                                             eps = 0.1,\n",
    "                                                             random_state = 28)\n",
    "    train_features_normalized_randpro = transformer.fit_transform(train_features_normalized)\n",
    "    test_features_normalized_randpro = transformer.fit_transform(test_features_normalized)\n",
    "\n",
    "    #Get the neural net object\n",
    "    neural_network = MLPClassifier(solver = solver_opt, #lbfgs, adam, sgd\n",
    "                                   activation = activation_opt, #identity, logistic, tanh, relu\n",
    "                                   alpha = alpha_opt,\n",
    "                                   hidden_layer_sizes = (hidden_layer_size_opt,),\n",
    "                                   batch_size = \"auto\",\n",
    "                                   learning_rate = \"constant\",\n",
    "                                   learning_rate_init = 0.001,\n",
    "                                   power_t = 0.5,\n",
    "                                   max_iter = 200,\n",
    "                                   shuffle = True,\n",
    "                                   random_state = 28,\n",
    "                                   tol = 0.0001,\n",
    "                                   verbose = False,\n",
    "                                   warm_start = False,\n",
    "                                   momentum = 0.9,\n",
    "                                   nesterovs_momentum = True,\n",
    "                                   early_stopping = True,\n",
    "                                   validation_fraction = 0.1,\n",
    "                                   beta_1 = 0.9,\n",
    "                                   beta_2 = 0.999,\n",
    "                                   epsilon = 1e-08,\n",
    "                                   n_iter_no_change = 10,\n",
    "                                   max_fun = 15000)\n",
    "    \n",
    "    #Fit the model\n",
    "    neural_network.fit(train_features_normalized_randpro, train_response) \n",
    "    \n",
    "    #Evaluate the model\n",
    "    #In fold\n",
    "    train_accuracy = neural_network.score(train_features_normalized_randpro, train_response)\n",
    "    #Out of fold\n",
    "    test_accuracy = neural_network.score(test_features_normalized_randpro, test_response)\n",
    "\n",
    "    end_time = time.time()\n",
    "    total_time = end_time - start_time\n",
    "\n",
    "    #Add to results list\n",
    "    neural_network_results = neural_network_results.append({\"iter_counter\": iter_counter,\n",
    "                                                            \"n_components\": n_component,\n",
    "                                                            \"hidden_layer_size\": hidden_layer_size_opt,\n",
    "                                                            \"solver\": solver_opt,\n",
    "                                                            \"activation\": activation_opt,\n",
    "                                                            \"alpha\": alpha_opt,\n",
    "                                                            \"train_accuracy\": train_accuracy,\n",
    "                                                            \"test_accuracy\": test_accuracy,\n",
    "                                                            \"time\": total_time},\n",
    "                                                            ignore_index = True)\n",
    "    print(neural_network_results, \"\\n\")\n",
    "    neural_network_results.to_csv(directory_hw3 + \"sensor_rp_neural_net_optimization.csv\", index = False)"
   ]
  },
  {
   "cell_type": "code",
   "execution_count": null,
   "metadata": {},
   "outputs": [],
   "source": []
  }
 ],
 "metadata": {
  "kernelspec": {
   "display_name": "Python 3",
   "language": "python",
   "name": "python3"
  },
  "language_info": {
   "codemirror_mode": {
    "name": "ipython",
    "version": 3
   },
   "file_extension": ".py",
   "mimetype": "text/x-python",
   "name": "python",
   "nbconvert_exporter": "python",
   "pygments_lexer": "ipython3",
   "version": "3.8.5"
  }
 },
 "nbformat": 4,
 "nbformat_minor": 4
}
