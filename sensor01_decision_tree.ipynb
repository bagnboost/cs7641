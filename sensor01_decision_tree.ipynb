{
 "cells": [
  {
   "cell_type": "markdown",
   "metadata": {},
   "source": [
    "# ML HW1 | Supervised Learning | Decision Trees\n",
    "https://scikit-learn.org/stable/modules/generated/sklearn.tree.DecisionTreeClassifier.html\n",
    "\n",
    "Note: I partially took this course in Fall of 2020 and dropped the course. Some content may trigget plagiarism tests."
   ]
  },
  {
   "cell_type": "markdown",
   "metadata": {},
   "source": [
    "## Import Libraries"
   ]
  },
  {
   "cell_type": "code",
   "execution_count": 1,
   "metadata": {},
   "outputs": [],
   "source": [
    "import pandas as pd\n",
    "import numpy as np\n",
    "import matplotlib.pyplot as plt\n",
    "from sklearn.tree import DecisionTreeClassifier\n",
    "from sklearn.model_selection import train_test_split\n",
    "import time"
   ]
  },
  {
   "cell_type": "markdown",
   "metadata": {},
   "source": [
    "## Set directory"
   ]
  },
  {
   "cell_type": "code",
   "execution_count": 2,
   "metadata": {},
   "outputs": [],
   "source": [
    "directory = \"/Users/mikepecorino/Documents/machine_learning/HW1/\""
   ]
  },
  {
   "cell_type": "markdown",
   "metadata": {},
   "source": [
    "## Load inputs"
   ]
  },
  {
   "cell_type": "code",
   "execution_count": 3,
   "metadata": {},
   "outputs": [],
   "source": [
    "data_all = pd.read_csv(directory + \"sensor_all.csv\")"
   ]
  },
  {
   "cell_type": "markdown",
   "metadata": {},
   "source": [
    "## Define features and response variable"
   ]
  },
  {
   "cell_type": "markdown",
   "metadata": {},
   "source": [
    "### Features list"
   ]
  },
  {
   "cell_type": "code",
   "execution_count": 4,
   "metadata": {},
   "outputs": [],
   "source": [
    "features = data_all.columns[data_all.columns.isin([\"subject\", \"activity_raw\", \"activity\", \"tag\", \"fold\", \"response_prop\"]) == False]\n"
   ]
  },
  {
   "cell_type": "markdown",
   "metadata": {},
   "source": [
    "### Features data"
   ]
  },
  {
   "cell_type": "code",
   "execution_count": 5,
   "metadata": {},
   "outputs": [],
   "source": [
    "data_all_features = data_all[features]\n",
    "train_features = data_all[features][data_all[\"tag\"] == \"train\"]\n",
    "valid_features = data_all[features][data_all[\"tag\"] == \"valid\"]\n",
    "test_features = data_all[features][data_all[\"tag\"] == \"test\"]"
   ]
  },
  {
   "cell_type": "markdown",
   "metadata": {},
   "source": [
    "### Response variable"
   ]
  },
  {
   "cell_type": "code",
   "execution_count": 6,
   "metadata": {},
   "outputs": [],
   "source": [
    "response = \"activity\""
   ]
  },
  {
   "cell_type": "markdown",
   "metadata": {},
   "source": [
    "### Response data"
   ]
  },
  {
   "cell_type": "code",
   "execution_count": 7,
   "metadata": {},
   "outputs": [],
   "source": [
    "data_all_response = data_all[response]\n",
    "train_response = data_all[response][data_all[\"tag\"] == \"train\"]\n",
    "valid_response = data_all[response][data_all[\"tag\"] == \"valid\"]\n",
    "test_response = data_all[response][data_all[\"tag\"] == \"test\"]"
   ]
  },
  {
   "cell_type": "markdown",
   "metadata": {},
   "source": [
    "## Decision Tree"
   ]
  },
  {
   "cell_type": "markdown",
   "metadata": {},
   "source": [
    "### Initial model using default values"
   ]
  },
  {
   "cell_type": "code",
   "execution_count": 8,
   "metadata": {},
   "outputs": [
    {
     "name": "stdout",
     "output_type": "stream",
     "text": [
      "Decision tree accuracy on training data:  1.0\n",
      "Decision tree accuracy on validation data:  0.9492063492063492\n"
     ]
    }
   ],
   "source": [
    "decision_tree_model = DecisionTreeClassifier(criterion = \"entropy\",\n",
    "                                             splitter = \"best\",\n",
    "                                             max_depth = None,\n",
    "                                             min_samples_split = 2,\n",
    "                                             min_samples_leaf = 1,\n",
    "                                             min_weight_fraction_leaf = 0.0,\n",
    "                                             max_features = None,\n",
    "                                             random_state = 28,\n",
    "                                             max_leaf_nodes = None,\n",
    "                                             min_impurity_decrease = 0.0,\n",
    "                                             class_weight = None,\n",
    "                                             ccp_alpha = 0.0)\n",
    "\n",
    "decision_tree_model.fit(train_features, train_response) \n",
    "\n",
    "print(\"Decision tree accuracy on training data: \",\n",
    "      decision_tree_model.score(train_features, train_response))\n",
    "print(\"Decision tree accuracy on validation data: \",\n",
    "      decision_tree_model.score(valid_features, valid_response))"
   ]
  },
  {
   "cell_type": "markdown",
   "metadata": {},
   "source": [
    "### Cost complexity pruning path\n",
    "https://scikit-learn.org/stable/auto_examples/tree/plot_cost_complexity_pruning.html#sphx-glr-auto-examples-tree-plot-cost-complexity-pruning-py"
   ]
  },
  {
   "cell_type": "markdown",
   "metadata": {},
   "source": [
    "#### Get the CCP"
   ]
  },
  {
   "cell_type": "code",
   "execution_count": 9,
   "metadata": {},
   "outputs": [],
   "source": [
    "path = decision_tree_model.cost_complexity_pruning_path(train_features, train_response)\n",
    "ccp_alphas, impurities = path.ccp_alphas, path.impurities\n",
    "\n",
    "ccp_df = pd.DataFrame(columns = ['ccp_alphas', 'impurities'])\n",
    "for i in range(0,len(ccp_alphas)):\n",
    "    ccp_df = ccp_df.append({'ccp_alphas': ccp_alphas[i].round(6),\n",
    "                            'impurities': impurities[i].round(3)},\n",
    "                          ignore_index = True)\n",
    "\n",
    "ccp_df_unique = ccp_df.drop_duplicates()\n",
    "ccp_alphas = np.array(ccp_df_unique[\"ccp_alphas\"])\n",
    "impurities = np.array(ccp_df_unique[\"impurities\"])"
   ]
  },
  {
   "cell_type": "markdown",
   "metadata": {},
   "source": [
    "#### Plot the CCP"
   ]
  },
  {
   "cell_type": "code",
   "execution_count": 10,
   "metadata": {},
   "outputs": [
    {
     "data": {
      "text/plain": [
       "Text(0.5, 1.0, 'Total impurity vs effective alpha for training data')"
      ]
     },
     "execution_count": 10,
     "metadata": {},
     "output_type": "execute_result"
    },
    {
     "data": {
      "image/png": "[encoded data removed]",
      "text/plain": [
       "<Figure size 432x288 with 1 Axes>"
      ]
     },
     "metadata": {
      "needs_background": "light"
     },
     "output_type": "display_data"
    }
   ],
   "source": [
    "fig, ax = plt.subplots()\n",
    "ax.plot(ccp_alphas[:-1], impurities[:-1], marker = 'o', drawstyle = \"steps-post\")\n",
    "ax.set_xlabel(\"Effective alpha\")\n",
    "ax.set_ylabel(\"Total impurity of leaves\")\n",
    "ax.set_title(\"Total impurity vs effective alpha for training data\")"
   ]
  },
  {
   "cell_type": "markdown",
   "metadata": {},
   "source": [
    "### Train a decision tree for each ccp_alpha and evaluate on cross-validation"
   ]
  },
  {
   "cell_type": "code",
   "execution_count": 11,
   "metadata": {},
   "outputs": [
    {
     "data": {
      "text/plain": [
       "{1, 2, 3, 4, 5}"
      ]
     },
     "execution_count": 11,
     "metadata": {},
     "output_type": "execute_result"
    }
   ],
   "source": [
    "data_cv = data_all[data_all[\"tag\"].isin([\"train\", \"valid\"])]\n",
    "folds = set(data_cv[\"fold\"])\n",
    "folds"
   ]
  },
  {
   "cell_type": "code",
   "execution_count": 12,
   "metadata": {},
   "outputs": [
    {
     "name": "stdout",
     "output_type": "stream",
     "text": [
      "iter_counter: 1 | fold: 1 | ccp_alpha: 0.0 | impurity: 0.0\n",
      "iter_counter: 1 | fold: 2 | ccp_alpha: 0.0 | impurity: 0.0\n",
      "iter_counter: 1 | fold: 3 | ccp_alpha: 0.0 | impurity: 0.0\n",
      "iter_counter: 1 | fold: 4 | ccp_alpha: 0.0 | impurity: 0.0\n",
      "iter_counter: 1 | fold: 5 | ccp_alpha: 0.0 | impurity: 0.0\n",
      "iter_counter: 2 | fold: 1 | ccp_alpha: 0.000389 | impurity: 0.0\n",
      "iter_counter: 2 | fold: 2 | ccp_alpha: 0.000389 | impurity: 0.0\n",
      "iter_counter: 2 | fold: 3 | ccp_alpha: 0.000389 | impurity: 0.0\n",
      "iter_counter: 2 | fold: 4 | ccp_alpha: 0.000389 | impurity: 0.0\n",
      "iter_counter: 2 | fold: 5 | ccp_alpha: 0.000389 | impurity: 0.0\n",
      "iter_counter: 3 | fold: 1 | ccp_alpha: 0.000389 | impurity: 0.001\n",
      "iter_counter: 3 | fold: 2 | ccp_alpha: 0.000389 | impurity: 0.001\n",
      "iter_counter: 3 | fold: 3 | ccp_alpha: 0.000389 | impurity: 0.001\n",
      "iter_counter: 3 | fold: 4 | ccp_alpha: 0.000389 | impurity: 0.001\n",
      "iter_counter: 3 | fold: 5 | ccp_alpha: 0.000389 | impurity: 0.001\n",
      "iter_counter: 4 | fold: 1 | ccp_alpha: 0.000535 | impurity: 0.001\n",
      "iter_counter: 4 | fold: 2 | ccp_alpha: 0.000535 | impurity: 0.001\n",
      "iter_counter: 4 | fold: 3 | ccp_alpha: 0.000535 | impurity: 0.001\n",
      "iter_counter: 4 | fold: 4 | ccp_alpha: 0.000535 | impurity: 0.001\n",
      "iter_counter: 4 | fold: 5 | ccp_alpha: 0.000535 | impurity: 0.001\n",
      "iter_counter: 5 | fold: 1 | ccp_alpha: 0.000535 | impurity: 0.002\n",
      "iter_counter: 5 | fold: 2 | ccp_alpha: 0.000535 | impurity: 0.002\n",
      "iter_counter: 5 | fold: 3 | ccp_alpha: 0.000535 | impurity: 0.002\n",
      "iter_counter: 5 | fold: 4 | ccp_alpha: 0.000535 | impurity: 0.002\n",
      "iter_counter: 5 | fold: 5 | ccp_alpha: 0.000535 | impurity: 0.002\n",
      "iter_counter: 6 | fold: 1 | ccp_alpha: 0.00063 | impurity: 0.003\n",
      "iter_counter: 6 | fold: 2 | ccp_alpha: 0.00063 | impurity: 0.003\n",
      "iter_counter: 6 | fold: 3 | ccp_alpha: 0.00063 | impurity: 0.003\n",
      "iter_counter: 6 | fold: 4 | ccp_alpha: 0.00063 | impurity: 0.003\n",
      "iter_counter: 6 | fold: 5 | ccp_alpha: 0.00063 | impurity: 0.003\n",
      "iter_counter: 7 | fold: 1 | ccp_alpha: 0.000701 | impurity: 0.004\n",
      "iter_counter: 7 | fold: 2 | ccp_alpha: 0.000701 | impurity: 0.004\n",
      "iter_counter: 7 | fold: 3 | ccp_alpha: 0.000701 | impurity: 0.004\n",
      "iter_counter: 7 | fold: 4 | ccp_alpha: 0.000701 | impurity: 0.004\n",
      "iter_counter: 7 | fold: 5 | ccp_alpha: 0.000701 | impurity: 0.004\n",
      "iter_counter: 8 | fold: 1 | ccp_alpha: 0.000758 | impurity: 0.005\n",
      "iter_counter: 8 | fold: 2 | ccp_alpha: 0.000758 | impurity: 0.005\n",
      "iter_counter: 8 | fold: 3 | ccp_alpha: 0.000758 | impurity: 0.005\n",
      "iter_counter: 8 | fold: 4 | ccp_alpha: 0.000758 | impurity: 0.005\n",
      "iter_counter: 8 | fold: 5 | ccp_alpha: 0.000758 | impurity: 0.005\n",
      "iter_counter: 9 | fold: 1 | ccp_alpha: 0.000777 | impurity: 0.006\n",
      "iter_counter: 9 | fold: 2 | ccp_alpha: 0.000777 | impurity: 0.006\n",
      "iter_counter: 9 | fold: 3 | ccp_alpha: 0.000777 | impurity: 0.006\n",
      "iter_counter: 9 | fold: 4 | ccp_alpha: 0.000777 | impurity: 0.006\n",
      "iter_counter: 9 | fold: 5 | ccp_alpha: 0.000777 | impurity: 0.006\n",
      "iter_counter: 10 | fold: 1 | ccp_alpha: 0.00088 | impurity: 0.007\n",
      "iter_counter: 10 | fold: 2 | ccp_alpha: 0.00088 | impurity: 0.007\n",
      "iter_counter: 10 | fold: 3 | ccp_alpha: 0.00088 | impurity: 0.007\n",
      "iter_counter: 10 | fold: 4 | ccp_alpha: 0.00088 | impurity: 0.007\n",
      "iter_counter: 10 | fold: 5 | ccp_alpha: 0.00088 | impurity: 0.007\n",
      "iter_counter: 11 | fold: 1 | ccp_alpha: 0.000911 | impurity: 0.008\n",
      "iter_counter: 11 | fold: 2 | ccp_alpha: 0.000911 | impurity: 0.008\n",
      "iter_counter: 11 | fold: 3 | ccp_alpha: 0.000911 | impurity: 0.008\n",
      "iter_counter: 11 | fold: 4 | ccp_alpha: 0.000911 | impurity: 0.008\n",
      "iter_counter: 11 | fold: 5 | ccp_alpha: 0.000911 | impurity: 0.008\n",
      "iter_counter: 12 | fold: 1 | ccp_alpha: 0.000943 | impurity: 0.009\n",
      "iter_counter: 12 | fold: 2 | ccp_alpha: 0.000943 | impurity: 0.009\n",
      "iter_counter: 12 | fold: 3 | ccp_alpha: 0.000943 | impurity: 0.009\n",
      "iter_counter: 12 | fold: 4 | ccp_alpha: 0.000943 | impurity: 0.009\n",
      "iter_counter: 12 | fold: 5 | ccp_alpha: 0.000943 | impurity: 0.009\n",
      "iter_counter: 13 | fold: 1 | ccp_alpha: 0.000943 | impurity: 0.01\n",
      "iter_counter: 13 | fold: 2 | ccp_alpha: 0.000943 | impurity: 0.01\n",
      "iter_counter: 13 | fold: 3 | ccp_alpha: 0.000943 | impurity: 0.01\n",
      "iter_counter: 13 | fold: 4 | ccp_alpha: 0.000943 | impurity: 0.01\n",
      "iter_counter: 13 | fold: 5 | ccp_alpha: 0.000943 | impurity: 0.01\n",
      "iter_counter: 14 | fold: 1 | ccp_alpha: 0.00101 | impurity: 0.011\n",
      "iter_counter: 14 | fold: 2 | ccp_alpha: 0.00101 | impurity: 0.011\n",
      "iter_counter: 14 | fold: 3 | ccp_alpha: 0.00101 | impurity: 0.011\n",
      "iter_counter: 14 | fold: 4 | ccp_alpha: 0.00101 | impurity: 0.011\n",
      "iter_counter: 14 | fold: 5 | ccp_alpha: 0.00101 | impurity: 0.011\n",
      "iter_counter: 15 | fold: 1 | ccp_alpha: 0.001066 | impurity: 0.012\n",
      "iter_counter: 15 | fold: 2 | ccp_alpha: 0.001066 | impurity: 0.012\n",
      "iter_counter: 15 | fold: 3 | ccp_alpha: 0.001066 | impurity: 0.012\n",
      "iter_counter: 15 | fold: 4 | ccp_alpha: 0.001066 | impurity: 0.012\n",
      "iter_counter: 15 | fold: 5 | ccp_alpha: 0.001066 | impurity: 0.012\n",
      "iter_counter: 16 | fold: 1 | ccp_alpha: 0.00107 | impurity: 0.013\n",
      "iter_counter: 16 | fold: 2 | ccp_alpha: 0.00107 | impurity: 0.013\n",
      "iter_counter: 16 | fold: 3 | ccp_alpha: 0.00107 | impurity: 0.013\n",
      "iter_counter: 16 | fold: 4 | ccp_alpha: 0.00107 | impurity: 0.013\n",
      "iter_counter: 16 | fold: 5 | ccp_alpha: 0.00107 | impurity: 0.013\n",
      "iter_counter: 17 | fold: 1 | ccp_alpha: 0.00107 | impurity: 0.014\n",
      "iter_counter: 17 | fold: 2 | ccp_alpha: 0.00107 | impurity: 0.014\n",
      "iter_counter: 17 | fold: 3 | ccp_alpha: 0.00107 | impurity: 0.014\n",
      "iter_counter: 17 | fold: 4 | ccp_alpha: 0.00107 | impurity: 0.014\n",
      "iter_counter: 17 | fold: 5 | ccp_alpha: 0.00107 | impurity: 0.014\n",
      "iter_counter: 18 | fold: 1 | ccp_alpha: 0.00107 | impurity: 0.015\n",
      "iter_counter: 18 | fold: 2 | ccp_alpha: 0.00107 | impurity: 0.015\n",
      "iter_counter: 18 | fold: 3 | ccp_alpha: 0.00107 | impurity: 0.015\n",
      "iter_counter: 18 | fold: 4 | ccp_alpha: 0.00107 | impurity: 0.015\n",
      "iter_counter: 18 | fold: 5 | ccp_alpha: 0.00107 | impurity: 0.015\n",
      "iter_counter: 19 | fold: 1 | ccp_alpha: 0.001083 | impurity: 0.016\n",
      "iter_counter: 19 | fold: 2 | ccp_alpha: 0.001083 | impurity: 0.016\n",
      "iter_counter: 19 | fold: 3 | ccp_alpha: 0.001083 | impurity: 0.016\n",
      "iter_counter: 19 | fold: 4 | ccp_alpha: 0.001083 | impurity: 0.016\n",
      "iter_counter: 19 | fold: 5 | ccp_alpha: 0.001083 | impurity: 0.016\n",
      "iter_counter: 20 | fold: 1 | ccp_alpha: 0.001098 | impurity: 0.017\n",
      "iter_counter: 20 | fold: 2 | ccp_alpha: 0.001098 | impurity: 0.017\n",
      "iter_counter: 20 | fold: 3 | ccp_alpha: 0.001098 | impurity: 0.017\n",
      "iter_counter: 20 | fold: 4 | ccp_alpha: 0.001098 | impurity: 0.017\n",
      "iter_counter: 20 | fold: 5 | ccp_alpha: 0.001098 | impurity: 0.017\n",
      "iter_counter: 21 | fold: 1 | ccp_alpha: 0.001165 | impurity: 0.018\n",
      "iter_counter: 21 | fold: 2 | ccp_alpha: 0.001165 | impurity: 0.018\n",
      "iter_counter: 21 | fold: 3 | ccp_alpha: 0.001165 | impurity: 0.018\n",
      "iter_counter: 21 | fold: 4 | ccp_alpha: 0.001165 | impurity: 0.018\n",
      "iter_counter: 21 | fold: 5 | ccp_alpha: 0.001165 | impurity: 0.018\n",
      "iter_counter: 22 | fold: 1 | ccp_alpha: 0.001229 | impurity: 0.019\n",
      "iter_counter: 22 | fold: 2 | ccp_alpha: 0.001229 | impurity: 0.019\n",
      "iter_counter: 22 | fold: 3 | ccp_alpha: 0.001229 | impurity: 0.019\n",
      "iter_counter: 22 | fold: 4 | ccp_alpha: 0.001229 | impurity: 0.019\n",
      "iter_counter: 22 | fold: 5 | ccp_alpha: 0.001229 | impurity: 0.019\n",
      "iter_counter: 23 | fold: 1 | ccp_alpha: 0.001403 | impurity: 0.021\n",
      "iter_counter: 23 | fold: 2 | ccp_alpha: 0.001403 | impurity: 0.021\n",
      "iter_counter: 23 | fold: 3 | ccp_alpha: 0.001403 | impurity: 0.021\n",
      "iter_counter: 23 | fold: 4 | ccp_alpha: 0.001403 | impurity: 0.021\n",
      "iter_counter: 23 | fold: 5 | ccp_alpha: 0.001403 | impurity: 0.021\n",
      "iter_counter: 24 | fold: 1 | ccp_alpha: 0.001462 | impurity: 0.022\n",
      "iter_counter: 24 | fold: 2 | ccp_alpha: 0.001462 | impurity: 0.022\n",
      "iter_counter: 24 | fold: 3 | ccp_alpha: 0.001462 | impurity: 0.022\n",
      "iter_counter: 24 | fold: 4 | ccp_alpha: 0.001462 | impurity: 0.022\n",
      "iter_counter: 24 | fold: 5 | ccp_alpha: 0.001462 | impurity: 0.022\n",
      "iter_counter: 25 | fold: 1 | ccp_alpha: 0.0015 | impurity: 0.024\n",
      "iter_counter: 25 | fold: 2 | ccp_alpha: 0.0015 | impurity: 0.024\n",
      "iter_counter: 25 | fold: 3 | ccp_alpha: 0.0015 | impurity: 0.024\n",
      "iter_counter: 25 | fold: 4 | ccp_alpha: 0.0015 | impurity: 0.024\n",
      "iter_counter: 25 | fold: 5 | ccp_alpha: 0.0015 | impurity: 0.024\n"
     ]
    },
    {
     "name": "stdout",
     "output_type": "stream",
     "text": [
      "iter_counter: 26 | fold: 1 | ccp_alpha: 0.001703 | impurity: 0.026\n",
      "iter_counter: 26 | fold: 2 | ccp_alpha: 0.001703 | impurity: 0.026\n",
      "iter_counter: 26 | fold: 3 | ccp_alpha: 0.001703 | impurity: 0.026\n",
      "iter_counter: 26 | fold: 4 | ccp_alpha: 0.001703 | impurity: 0.026\n",
      "iter_counter: 26 | fold: 5 | ccp_alpha: 0.001703 | impurity: 0.026\n",
      "iter_counter: 27 | fold: 1 | ccp_alpha: 0.001733 | impurity: 0.027\n",
      "iter_counter: 27 | fold: 2 | ccp_alpha: 0.001733 | impurity: 0.027\n",
      "iter_counter: 27 | fold: 3 | ccp_alpha: 0.001733 | impurity: 0.027\n",
      "iter_counter: 27 | fold: 4 | ccp_alpha: 0.001733 | impurity: 0.027\n",
      "iter_counter: 27 | fold: 5 | ccp_alpha: 0.001733 | impurity: 0.027\n",
      "iter_counter: 28 | fold: 1 | ccp_alpha: 0.001762 | impurity: 0.029\n",
      "iter_counter: 28 | fold: 2 | ccp_alpha: 0.001762 | impurity: 0.029\n",
      "iter_counter: 28 | fold: 3 | ccp_alpha: 0.001762 | impurity: 0.029\n",
      "iter_counter: 28 | fold: 4 | ccp_alpha: 0.001762 | impurity: 0.029\n",
      "iter_counter: 28 | fold: 5 | ccp_alpha: 0.001762 | impurity: 0.029\n",
      "iter_counter: 29 | fold: 1 | ccp_alpha: 0.0018 | impurity: 0.031\n",
      "iter_counter: 29 | fold: 2 | ccp_alpha: 0.0018 | impurity: 0.031\n",
      "iter_counter: 29 | fold: 3 | ccp_alpha: 0.0018 | impurity: 0.031\n",
      "iter_counter: 29 | fold: 4 | ccp_alpha: 0.0018 | impurity: 0.031\n",
      "iter_counter: 29 | fold: 5 | ccp_alpha: 0.0018 | impurity: 0.031\n",
      "iter_counter: 30 | fold: 1 | ccp_alpha: 0.001879 | impurity: 0.033\n",
      "iter_counter: 30 | fold: 2 | ccp_alpha: 0.001879 | impurity: 0.033\n",
      "iter_counter: 30 | fold: 3 | ccp_alpha: 0.001879 | impurity: 0.033\n",
      "iter_counter: 30 | fold: 4 | ccp_alpha: 0.001879 | impurity: 0.033\n",
      "iter_counter: 30 | fold: 5 | ccp_alpha: 0.001879 | impurity: 0.033\n",
      "iter_counter: 31 | fold: 1 | ccp_alpha: 0.001891 | impurity: 0.035\n",
      "iter_counter: 31 | fold: 2 | ccp_alpha: 0.001891 | impurity: 0.035\n",
      "iter_counter: 31 | fold: 3 | ccp_alpha: 0.001891 | impurity: 0.035\n",
      "iter_counter: 31 | fold: 4 | ccp_alpha: 0.001891 | impurity: 0.035\n",
      "iter_counter: 31 | fold: 5 | ccp_alpha: 0.001891 | impurity: 0.035\n",
      "iter_counter: 32 | fold: 1 | ccp_alpha: 0.001903 | impurity: 0.037\n",
      "iter_counter: 32 | fold: 2 | ccp_alpha: 0.001903 | impurity: 0.037\n",
      "iter_counter: 32 | fold: 3 | ccp_alpha: 0.001903 | impurity: 0.037\n",
      "iter_counter: 32 | fold: 4 | ccp_alpha: 0.001903 | impurity: 0.037\n",
      "iter_counter: 32 | fold: 5 | ccp_alpha: 0.001903 | impurity: 0.037\n",
      "iter_counter: 33 | fold: 1 | ccp_alpha: 0.001953 | impurity: 0.038\n",
      "iter_counter: 33 | fold: 2 | ccp_alpha: 0.001953 | impurity: 0.038\n",
      "iter_counter: 33 | fold: 3 | ccp_alpha: 0.001953 | impurity: 0.038\n",
      "iter_counter: 33 | fold: 4 | ccp_alpha: 0.001953 | impurity: 0.038\n",
      "iter_counter: 33 | fold: 5 | ccp_alpha: 0.001953 | impurity: 0.038\n",
      "iter_counter: 34 | fold: 1 | ccp_alpha: 0.001968 | impurity: 0.04\n",
      "iter_counter: 34 | fold: 2 | ccp_alpha: 0.001968 | impurity: 0.04\n",
      "iter_counter: 34 | fold: 3 | ccp_alpha: 0.001968 | impurity: 0.04\n",
      "iter_counter: 34 | fold: 4 | ccp_alpha: 0.001968 | impurity: 0.04\n",
      "iter_counter: 34 | fold: 5 | ccp_alpha: 0.001968 | impurity: 0.04\n",
      "iter_counter: 35 | fold: 1 | ccp_alpha: 0.002006 | impurity: 0.042\n",
      "iter_counter: 35 | fold: 2 | ccp_alpha: 0.002006 | impurity: 0.042\n",
      "iter_counter: 35 | fold: 3 | ccp_alpha: 0.002006 | impurity: 0.042\n",
      "iter_counter: 35 | fold: 4 | ccp_alpha: 0.002006 | impurity: 0.042\n",
      "iter_counter: 35 | fold: 5 | ccp_alpha: 0.002006 | impurity: 0.042\n",
      "iter_counter: 36 | fold: 1 | ccp_alpha: 0.002036 | impurity: 0.044\n",
      "iter_counter: 36 | fold: 2 | ccp_alpha: 0.002036 | impurity: 0.044\n",
      "iter_counter: 36 | fold: 3 | ccp_alpha: 0.002036 | impurity: 0.044\n",
      "iter_counter: 36 | fold: 4 | ccp_alpha: 0.002036 | impurity: 0.044\n",
      "iter_counter: 36 | fold: 5 | ccp_alpha: 0.002036 | impurity: 0.044\n",
      "iter_counter: 37 | fold: 1 | ccp_alpha: 0.002036 | impurity: 0.049\n",
      "iter_counter: 37 | fold: 2 | ccp_alpha: 0.002036 | impurity: 0.049\n",
      "iter_counter: 37 | fold: 3 | ccp_alpha: 0.002036 | impurity: 0.049\n",
      "iter_counter: 37 | fold: 4 | ccp_alpha: 0.002036 | impurity: 0.049\n",
      "iter_counter: 37 | fold: 5 | ccp_alpha: 0.002036 | impurity: 0.049\n",
      "iter_counter: 38 | fold: 1 | ccp_alpha: 0.002124 | impurity: 0.051\n",
      "iter_counter: 38 | fold: 2 | ccp_alpha: 0.002124 | impurity: 0.051\n",
      "iter_counter: 38 | fold: 3 | ccp_alpha: 0.002124 | impurity: 0.051\n",
      "iter_counter: 38 | fold: 4 | ccp_alpha: 0.002124 | impurity: 0.051\n",
      "iter_counter: 38 | fold: 5 | ccp_alpha: 0.002124 | impurity: 0.051\n",
      "iter_counter: 39 | fold: 1 | ccp_alpha: 0.002124 | impurity: 0.053\n",
      "iter_counter: 39 | fold: 2 | ccp_alpha: 0.002124 | impurity: 0.053\n",
      "iter_counter: 39 | fold: 3 | ccp_alpha: 0.002124 | impurity: 0.053\n",
      "iter_counter: 39 | fold: 4 | ccp_alpha: 0.002124 | impurity: 0.053\n",
      "iter_counter: 39 | fold: 5 | ccp_alpha: 0.002124 | impurity: 0.053\n",
      "iter_counter: 40 | fold: 1 | ccp_alpha: 0.002149 | impurity: 0.055\n",
      "iter_counter: 40 | fold: 2 | ccp_alpha: 0.002149 | impurity: 0.055\n",
      "iter_counter: 40 | fold: 3 | ccp_alpha: 0.002149 | impurity: 0.055\n",
      "iter_counter: 40 | fold: 4 | ccp_alpha: 0.002149 | impurity: 0.055\n",
      "iter_counter: 40 | fold: 5 | ccp_alpha: 0.002149 | impurity: 0.055\n",
      "iter_counter: 41 | fold: 1 | ccp_alpha: 0.002164 | impurity: 0.057\n",
      "iter_counter: 41 | fold: 2 | ccp_alpha: 0.002164 | impurity: 0.057\n",
      "iter_counter: 41 | fold: 3 | ccp_alpha: 0.002164 | impurity: 0.057\n",
      "iter_counter: 41 | fold: 4 | ccp_alpha: 0.002164 | impurity: 0.057\n",
      "iter_counter: 41 | fold: 5 | ccp_alpha: 0.002164 | impurity: 0.057\n",
      "iter_counter: 42 | fold: 1 | ccp_alpha: 0.002199 | impurity: 0.059\n",
      "iter_counter: 42 | fold: 2 | ccp_alpha: 0.002199 | impurity: 0.059\n",
      "iter_counter: 42 | fold: 3 | ccp_alpha: 0.002199 | impurity: 0.059\n",
      "iter_counter: 42 | fold: 4 | ccp_alpha: 0.002199 | impurity: 0.059\n",
      "iter_counter: 42 | fold: 5 | ccp_alpha: 0.002199 | impurity: 0.059\n",
      "iter_counter: 43 | fold: 1 | ccp_alpha: 0.00237 | impurity: 0.062\n",
      "iter_counter: 43 | fold: 2 | ccp_alpha: 0.00237 | impurity: 0.062\n",
      "iter_counter: 43 | fold: 3 | ccp_alpha: 0.00237 | impurity: 0.062\n",
      "iter_counter: 43 | fold: 4 | ccp_alpha: 0.00237 | impurity: 0.062\n",
      "iter_counter: 43 | fold: 5 | ccp_alpha: 0.00237 | impurity: 0.062\n",
      "iter_counter: 44 | fold: 1 | ccp_alpha: 0.002428 | impurity: 0.064\n",
      "iter_counter: 44 | fold: 2 | ccp_alpha: 0.002428 | impurity: 0.064\n",
      "iter_counter: 44 | fold: 3 | ccp_alpha: 0.002428 | impurity: 0.064\n",
      "iter_counter: 44 | fold: 4 | ccp_alpha: 0.002428 | impurity: 0.064\n",
      "iter_counter: 44 | fold: 5 | ccp_alpha: 0.002428 | impurity: 0.064\n",
      "iter_counter: 45 | fold: 1 | ccp_alpha: 0.002484 | impurity: 0.069\n",
      "iter_counter: 45 | fold: 2 | ccp_alpha: 0.002484 | impurity: 0.069\n",
      "iter_counter: 45 | fold: 3 | ccp_alpha: 0.002484 | impurity: 0.069\n",
      "iter_counter: 45 | fold: 4 | ccp_alpha: 0.002484 | impurity: 0.069\n",
      "iter_counter: 45 | fold: 5 | ccp_alpha: 0.002484 | impurity: 0.069\n",
      "iter_counter: 46 | fold: 1 | ccp_alpha: 0.00252 | impurity: 0.072\n",
      "iter_counter: 46 | fold: 2 | ccp_alpha: 0.00252 | impurity: 0.072\n",
      "iter_counter: 46 | fold: 3 | ccp_alpha: 0.00252 | impurity: 0.072\n",
      "iter_counter: 46 | fold: 4 | ccp_alpha: 0.00252 | impurity: 0.072\n",
      "iter_counter: 46 | fold: 5 | ccp_alpha: 0.00252 | impurity: 0.072\n",
      "iter_counter: 47 | fold: 1 | ccp_alpha: 0.002576 | impurity: 0.074\n",
      "iter_counter: 47 | fold: 2 | ccp_alpha: 0.002576 | impurity: 0.074\n",
      "iter_counter: 47 | fold: 3 | ccp_alpha: 0.002576 | impurity: 0.074\n",
      "iter_counter: 47 | fold: 4 | ccp_alpha: 0.002576 | impurity: 0.074\n",
      "iter_counter: 47 | fold: 5 | ccp_alpha: 0.002576 | impurity: 0.074\n",
      "iter_counter: 48 | fold: 1 | ccp_alpha: 0.002598 | impurity: 0.079\n",
      "iter_counter: 48 | fold: 2 | ccp_alpha: 0.002598 | impurity: 0.079\n",
      "iter_counter: 48 | fold: 3 | ccp_alpha: 0.002598 | impurity: 0.079\n",
      "iter_counter: 48 | fold: 4 | ccp_alpha: 0.002598 | impurity: 0.079\n",
      "iter_counter: 48 | fold: 5 | ccp_alpha: 0.002598 | impurity: 0.079\n",
      "iter_counter: 49 | fold: 1 | ccp_alpha: 0.002715 | impurity: 0.082\n",
      "iter_counter: 49 | fold: 2 | ccp_alpha: 0.002715 | impurity: 0.082\n",
      "iter_counter: 49 | fold: 3 | ccp_alpha: 0.002715 | impurity: 0.082\n",
      "iter_counter: 49 | fold: 4 | ccp_alpha: 0.002715 | impurity: 0.082\n",
      "iter_counter: 49 | fold: 5 | ccp_alpha: 0.002715 | impurity: 0.082\n",
      "iter_counter: 50 | fold: 1 | ccp_alpha: 0.002759 | impurity: 0.085\n",
      "iter_counter: 50 | fold: 2 | ccp_alpha: 0.002759 | impurity: 0.085\n",
      "iter_counter: 50 | fold: 3 | ccp_alpha: 0.002759 | impurity: 0.085\n"
     ]
    },
    {
     "name": "stdout",
     "output_type": "stream",
     "text": [
      "iter_counter: 50 | fold: 4 | ccp_alpha: 0.002759 | impurity: 0.085\n",
      "iter_counter: 50 | fold: 5 | ccp_alpha: 0.002759 | impurity: 0.085\n",
      "iter_counter: 51 | fold: 1 | ccp_alpha: 0.002796 | impurity: 0.09\n",
      "iter_counter: 51 | fold: 2 | ccp_alpha: 0.002796 | impurity: 0.09\n",
      "iter_counter: 51 | fold: 3 | ccp_alpha: 0.002796 | impurity: 0.09\n",
      "iter_counter: 51 | fold: 4 | ccp_alpha: 0.002796 | impurity: 0.09\n",
      "iter_counter: 51 | fold: 5 | ccp_alpha: 0.002796 | impurity: 0.09\n",
      "iter_counter: 52 | fold: 1 | ccp_alpha: 0.002837 | impurity: 0.093\n",
      "iter_counter: 52 | fold: 2 | ccp_alpha: 0.002837 | impurity: 0.093\n",
      "iter_counter: 52 | fold: 3 | ccp_alpha: 0.002837 | impurity: 0.093\n",
      "iter_counter: 52 | fold: 4 | ccp_alpha: 0.002837 | impurity: 0.093\n",
      "iter_counter: 52 | fold: 5 | ccp_alpha: 0.002837 | impurity: 0.093\n",
      "iter_counter: 53 | fold: 1 | ccp_alpha: 0.002876 | impurity: 0.096\n",
      "iter_counter: 53 | fold: 2 | ccp_alpha: 0.002876 | impurity: 0.096\n",
      "iter_counter: 53 | fold: 3 | ccp_alpha: 0.002876 | impurity: 0.096\n",
      "iter_counter: 53 | fold: 4 | ccp_alpha: 0.002876 | impurity: 0.096\n",
      "iter_counter: 53 | fold: 5 | ccp_alpha: 0.002876 | impurity: 0.096\n",
      "iter_counter: 54 | fold: 1 | ccp_alpha: 0.002926 | impurity: 0.099\n",
      "iter_counter: 54 | fold: 2 | ccp_alpha: 0.002926 | impurity: 0.099\n",
      "iter_counter: 54 | fold: 3 | ccp_alpha: 0.002926 | impurity: 0.099\n",
      "iter_counter: 54 | fold: 4 | ccp_alpha: 0.002926 | impurity: 0.099\n",
      "iter_counter: 54 | fold: 5 | ccp_alpha: 0.002926 | impurity: 0.099\n",
      "iter_counter: 55 | fold: 1 | ccp_alpha: 0.002944 | impurity: 0.105\n",
      "iter_counter: 55 | fold: 2 | ccp_alpha: 0.002944 | impurity: 0.105\n",
      "iter_counter: 55 | fold: 3 | ccp_alpha: 0.002944 | impurity: 0.105\n",
      "iter_counter: 55 | fold: 4 | ccp_alpha: 0.002944 | impurity: 0.105\n",
      "iter_counter: 55 | fold: 5 | ccp_alpha: 0.002944 | impurity: 0.105\n",
      "iter_counter: 56 | fold: 1 | ccp_alpha: 0.003053 | impurity: 0.111\n",
      "iter_counter: 56 | fold: 2 | ccp_alpha: 0.003053 | impurity: 0.111\n",
      "iter_counter: 56 | fold: 3 | ccp_alpha: 0.003053 | impurity: 0.111\n",
      "iter_counter: 56 | fold: 4 | ccp_alpha: 0.003053 | impurity: 0.111\n",
      "iter_counter: 56 | fold: 5 | ccp_alpha: 0.003053 | impurity: 0.111\n",
      "iter_counter: 57 | fold: 1 | ccp_alpha: 0.003209 | impurity: 0.114\n",
      "iter_counter: 57 | fold: 2 | ccp_alpha: 0.003209 | impurity: 0.114\n",
      "iter_counter: 57 | fold: 3 | ccp_alpha: 0.003209 | impurity: 0.114\n",
      "iter_counter: 57 | fold: 4 | ccp_alpha: 0.003209 | impurity: 0.114\n",
      "iter_counter: 57 | fold: 5 | ccp_alpha: 0.003209 | impurity: 0.114\n",
      "iter_counter: 58 | fold: 1 | ccp_alpha: 0.003387 | impurity: 0.118\n",
      "iter_counter: 58 | fold: 2 | ccp_alpha: 0.003387 | impurity: 0.118\n",
      "iter_counter: 58 | fold: 3 | ccp_alpha: 0.003387 | impurity: 0.118\n",
      "iter_counter: 58 | fold: 4 | ccp_alpha: 0.003387 | impurity: 0.118\n",
      "iter_counter: 58 | fold: 5 | ccp_alpha: 0.003387 | impurity: 0.118\n",
      "iter_counter: 59 | fold: 1 | ccp_alpha: 0.003584 | impurity: 0.121\n",
      "iter_counter: 59 | fold: 2 | ccp_alpha: 0.003584 | impurity: 0.121\n",
      "iter_counter: 59 | fold: 3 | ccp_alpha: 0.003584 | impurity: 0.121\n",
      "iter_counter: 59 | fold: 4 | ccp_alpha: 0.003584 | impurity: 0.121\n",
      "iter_counter: 59 | fold: 5 | ccp_alpha: 0.003584 | impurity: 0.121\n",
      "iter_counter: 60 | fold: 1 | ccp_alpha: 0.003799 | impurity: 0.129\n",
      "iter_counter: 60 | fold: 2 | ccp_alpha: 0.003799 | impurity: 0.129\n",
      "iter_counter: 60 | fold: 3 | ccp_alpha: 0.003799 | impurity: 0.129\n",
      "iter_counter: 60 | fold: 4 | ccp_alpha: 0.003799 | impurity: 0.129\n",
      "iter_counter: 60 | fold: 5 | ccp_alpha: 0.003799 | impurity: 0.129\n",
      "iter_counter: 61 | fold: 1 | ccp_alpha: 0.003805 | impurity: 0.133\n",
      "iter_counter: 61 | fold: 2 | ccp_alpha: 0.003805 | impurity: 0.133\n",
      "iter_counter: 61 | fold: 3 | ccp_alpha: 0.003805 | impurity: 0.133\n",
      "iter_counter: 61 | fold: 4 | ccp_alpha: 0.003805 | impurity: 0.133\n",
      "iter_counter: 61 | fold: 5 | ccp_alpha: 0.003805 | impurity: 0.133\n",
      "iter_counter: 62 | fold: 1 | ccp_alpha: 0.003817 | impurity: 0.136\n",
      "iter_counter: 62 | fold: 2 | ccp_alpha: 0.003817 | impurity: 0.136\n",
      "iter_counter: 62 | fold: 3 | ccp_alpha: 0.003817 | impurity: 0.136\n",
      "iter_counter: 62 | fold: 4 | ccp_alpha: 0.003817 | impurity: 0.136\n",
      "iter_counter: 62 | fold: 5 | ccp_alpha: 0.003817 | impurity: 0.136\n",
      "iter_counter: 63 | fold: 1 | ccp_alpha: 0.003893 | impurity: 0.14\n",
      "iter_counter: 63 | fold: 2 | ccp_alpha: 0.003893 | impurity: 0.14\n",
      "iter_counter: 63 | fold: 3 | ccp_alpha: 0.003893 | impurity: 0.14\n",
      "iter_counter: 63 | fold: 4 | ccp_alpha: 0.003893 | impurity: 0.14\n",
      "iter_counter: 63 | fold: 5 | ccp_alpha: 0.003893 | impurity: 0.14\n",
      "iter_counter: 64 | fold: 1 | ccp_alpha: 0.004165 | impurity: 0.145\n",
      "iter_counter: 64 | fold: 2 | ccp_alpha: 0.004165 | impurity: 0.145\n",
      "iter_counter: 64 | fold: 3 | ccp_alpha: 0.004165 | impurity: 0.145\n",
      "iter_counter: 64 | fold: 4 | ccp_alpha: 0.004165 | impurity: 0.145\n",
      "iter_counter: 64 | fold: 5 | ccp_alpha: 0.004165 | impurity: 0.145\n",
      "iter_counter: 65 | fold: 1 | ccp_alpha: 0.004424 | impurity: 0.149\n",
      "iter_counter: 65 | fold: 2 | ccp_alpha: 0.004424 | impurity: 0.149\n",
      "iter_counter: 65 | fold: 3 | ccp_alpha: 0.004424 | impurity: 0.149\n",
      "iter_counter: 65 | fold: 4 | ccp_alpha: 0.004424 | impurity: 0.149\n",
      "iter_counter: 65 | fold: 5 | ccp_alpha: 0.004424 | impurity: 0.149\n",
      "iter_counter: 66 | fold: 1 | ccp_alpha: 0.004744 | impurity: 0.154\n",
      "iter_counter: 66 | fold: 2 | ccp_alpha: 0.004744 | impurity: 0.154\n",
      "iter_counter: 66 | fold: 3 | ccp_alpha: 0.004744 | impurity: 0.154\n",
      "iter_counter: 66 | fold: 4 | ccp_alpha: 0.004744 | impurity: 0.154\n",
      "iter_counter: 66 | fold: 5 | ccp_alpha: 0.004744 | impurity: 0.154\n",
      "iter_counter: 67 | fold: 1 | ccp_alpha: 0.004794 | impurity: 0.158\n",
      "iter_counter: 67 | fold: 2 | ccp_alpha: 0.004794 | impurity: 0.158\n",
      "iter_counter: 67 | fold: 3 | ccp_alpha: 0.004794 | impurity: 0.158\n",
      "iter_counter: 67 | fold: 4 | ccp_alpha: 0.004794 | impurity: 0.158\n",
      "iter_counter: 67 | fold: 5 | ccp_alpha: 0.004794 | impurity: 0.158\n",
      "iter_counter: 68 | fold: 1 | ccp_alpha: 0.004852 | impurity: 0.163\n",
      "iter_counter: 68 | fold: 2 | ccp_alpha: 0.004852 | impurity: 0.163\n",
      "iter_counter: 68 | fold: 3 | ccp_alpha: 0.004852 | impurity: 0.163\n",
      "iter_counter: 68 | fold: 4 | ccp_alpha: 0.004852 | impurity: 0.163\n",
      "iter_counter: 68 | fold: 5 | ccp_alpha: 0.004852 | impurity: 0.163\n",
      "iter_counter: 69 | fold: 1 | ccp_alpha: 0.005296 | impurity: 0.169\n",
      "iter_counter: 69 | fold: 2 | ccp_alpha: 0.005296 | impurity: 0.169\n",
      "iter_counter: 69 | fold: 3 | ccp_alpha: 0.005296 | impurity: 0.169\n",
      "iter_counter: 69 | fold: 4 | ccp_alpha: 0.005296 | impurity: 0.169\n",
      "iter_counter: 69 | fold: 5 | ccp_alpha: 0.005296 | impurity: 0.169\n",
      "iter_counter: 70 | fold: 1 | ccp_alpha: 0.005445 | impurity: 0.174\n",
      "iter_counter: 70 | fold: 2 | ccp_alpha: 0.005445 | impurity: 0.174\n",
      "iter_counter: 70 | fold: 3 | ccp_alpha: 0.005445 | impurity: 0.174\n",
      "iter_counter: 70 | fold: 4 | ccp_alpha: 0.005445 | impurity: 0.174\n",
      "iter_counter: 70 | fold: 5 | ccp_alpha: 0.005445 | impurity: 0.174\n",
      "iter_counter: 71 | fold: 1 | ccp_alpha: 0.005594 | impurity: 0.18\n",
      "iter_counter: 71 | fold: 2 | ccp_alpha: 0.005594 | impurity: 0.18\n",
      "iter_counter: 71 | fold: 3 | ccp_alpha: 0.005594 | impurity: 0.18\n",
      "iter_counter: 71 | fold: 4 | ccp_alpha: 0.005594 | impurity: 0.18\n",
      "iter_counter: 71 | fold: 5 | ccp_alpha: 0.005594 | impurity: 0.18\n",
      "iter_counter: 72 | fold: 1 | ccp_alpha: 0.005676 | impurity: 0.185\n",
      "iter_counter: 72 | fold: 2 | ccp_alpha: 0.005676 | impurity: 0.185\n",
      "iter_counter: 72 | fold: 3 | ccp_alpha: 0.005676 | impurity: 0.185\n",
      "iter_counter: 72 | fold: 4 | ccp_alpha: 0.005676 | impurity: 0.185\n",
      "iter_counter: 72 | fold: 5 | ccp_alpha: 0.005676 | impurity: 0.185\n",
      "iter_counter: 73 | fold: 1 | ccp_alpha: 0.005886 | impurity: 0.191\n",
      "iter_counter: 73 | fold: 2 | ccp_alpha: 0.005886 | impurity: 0.191\n",
      "iter_counter: 73 | fold: 3 | ccp_alpha: 0.005886 | impurity: 0.191\n",
      "iter_counter: 73 | fold: 4 | ccp_alpha: 0.005886 | impurity: 0.191\n",
      "iter_counter: 73 | fold: 5 | ccp_alpha: 0.005886 | impurity: 0.191\n",
      "iter_counter: 74 | fold: 1 | ccp_alpha: 0.006715 | impurity: 0.198\n",
      "iter_counter: 74 | fold: 2 | ccp_alpha: 0.006715 | impurity: 0.198\n",
      "iter_counter: 74 | fold: 3 | ccp_alpha: 0.006715 | impurity: 0.198\n",
      "iter_counter: 74 | fold: 4 | ccp_alpha: 0.006715 | impurity: 0.198\n",
      "iter_counter: 74 | fold: 5 | ccp_alpha: 0.006715 | impurity: 0.198\n",
      "iter_counter: 75 | fold: 1 | ccp_alpha: 0.006782 | impurity: 0.205\n"
     ]
    },
    {
     "name": "stdout",
     "output_type": "stream",
     "text": [
      "iter_counter: 75 | fold: 2 | ccp_alpha: 0.006782 | impurity: 0.205\n",
      "iter_counter: 75 | fold: 3 | ccp_alpha: 0.006782 | impurity: 0.205\n",
      "iter_counter: 75 | fold: 4 | ccp_alpha: 0.006782 | impurity: 0.205\n",
      "iter_counter: 75 | fold: 5 | ccp_alpha: 0.006782 | impurity: 0.205\n",
      "iter_counter: 76 | fold: 1 | ccp_alpha: 0.006843 | impurity: 0.218\n",
      "iter_counter: 76 | fold: 2 | ccp_alpha: 0.006843 | impurity: 0.218\n",
      "iter_counter: 76 | fold: 3 | ccp_alpha: 0.006843 | impurity: 0.218\n",
      "iter_counter: 76 | fold: 4 | ccp_alpha: 0.006843 | impurity: 0.218\n",
      "iter_counter: 76 | fold: 5 | ccp_alpha: 0.006843 | impurity: 0.218\n",
      "iter_counter: 77 | fold: 1 | ccp_alpha: 0.007119 | impurity: 0.226\n",
      "iter_counter: 77 | fold: 2 | ccp_alpha: 0.007119 | impurity: 0.226\n",
      "iter_counter: 77 | fold: 3 | ccp_alpha: 0.007119 | impurity: 0.226\n",
      "iter_counter: 77 | fold: 4 | ccp_alpha: 0.007119 | impurity: 0.226\n",
      "iter_counter: 77 | fold: 5 | ccp_alpha: 0.007119 | impurity: 0.226\n",
      "iter_counter: 78 | fold: 1 | ccp_alpha: 0.007156 | impurity: 0.233\n",
      "iter_counter: 78 | fold: 2 | ccp_alpha: 0.007156 | impurity: 0.233\n",
      "iter_counter: 78 | fold: 3 | ccp_alpha: 0.007156 | impurity: 0.233\n",
      "iter_counter: 78 | fold: 4 | ccp_alpha: 0.007156 | impurity: 0.233\n",
      "iter_counter: 78 | fold: 5 | ccp_alpha: 0.007156 | impurity: 0.233\n",
      "iter_counter: 79 | fold: 1 | ccp_alpha: 0.007448 | impurity: 0.24\n",
      "iter_counter: 79 | fold: 2 | ccp_alpha: 0.007448 | impurity: 0.24\n",
      "iter_counter: 79 | fold: 3 | ccp_alpha: 0.007448 | impurity: 0.24\n",
      "iter_counter: 79 | fold: 4 | ccp_alpha: 0.007448 | impurity: 0.24\n",
      "iter_counter: 79 | fold: 5 | ccp_alpha: 0.007448 | impurity: 0.24\n",
      "iter_counter: 80 | fold: 1 | ccp_alpha: 0.007775 | impurity: 0.248\n",
      "iter_counter: 80 | fold: 2 | ccp_alpha: 0.007775 | impurity: 0.248\n",
      "iter_counter: 80 | fold: 3 | ccp_alpha: 0.007775 | impurity: 0.248\n",
      "iter_counter: 80 | fold: 4 | ccp_alpha: 0.007775 | impurity: 0.248\n",
      "iter_counter: 80 | fold: 5 | ccp_alpha: 0.007775 | impurity: 0.248\n",
      "iter_counter: 81 | fold: 1 | ccp_alpha: 0.007779 | impurity: 0.256\n",
      "iter_counter: 81 | fold: 2 | ccp_alpha: 0.007779 | impurity: 0.256\n",
      "iter_counter: 81 | fold: 3 | ccp_alpha: 0.007779 | impurity: 0.256\n",
      "iter_counter: 81 | fold: 4 | ccp_alpha: 0.007779 | impurity: 0.256\n",
      "iter_counter: 81 | fold: 5 | ccp_alpha: 0.007779 | impurity: 0.256\n",
      "iter_counter: 82 | fold: 1 | ccp_alpha: 0.007913 | impurity: 0.264\n",
      "iter_counter: 82 | fold: 2 | ccp_alpha: 0.007913 | impurity: 0.264\n",
      "iter_counter: 82 | fold: 3 | ccp_alpha: 0.007913 | impurity: 0.264\n",
      "iter_counter: 82 | fold: 4 | ccp_alpha: 0.007913 | impurity: 0.264\n",
      "iter_counter: 82 | fold: 5 | ccp_alpha: 0.007913 | impurity: 0.264\n",
      "iter_counter: 83 | fold: 1 | ccp_alpha: 0.008703 | impurity: 0.272\n",
      "iter_counter: 83 | fold: 2 | ccp_alpha: 0.008703 | impurity: 0.272\n",
      "iter_counter: 83 | fold: 3 | ccp_alpha: 0.008703 | impurity: 0.272\n",
      "iter_counter: 83 | fold: 4 | ccp_alpha: 0.008703 | impurity: 0.272\n",
      "iter_counter: 83 | fold: 5 | ccp_alpha: 0.008703 | impurity: 0.272\n",
      "iter_counter: 84 | fold: 1 | ccp_alpha: 0.009292 | impurity: 0.282\n",
      "iter_counter: 84 | fold: 2 | ccp_alpha: 0.009292 | impurity: 0.282\n",
      "iter_counter: 84 | fold: 3 | ccp_alpha: 0.009292 | impurity: 0.282\n",
      "iter_counter: 84 | fold: 4 | ccp_alpha: 0.009292 | impurity: 0.282\n",
      "iter_counter: 84 | fold: 5 | ccp_alpha: 0.009292 | impurity: 0.282\n",
      "iter_counter: 85 | fold: 1 | ccp_alpha: 0.009359 | impurity: 0.291\n",
      "iter_counter: 85 | fold: 2 | ccp_alpha: 0.009359 | impurity: 0.291\n",
      "iter_counter: 85 | fold: 3 | ccp_alpha: 0.009359 | impurity: 0.291\n",
      "iter_counter: 85 | fold: 4 | ccp_alpha: 0.009359 | impurity: 0.291\n",
      "iter_counter: 85 | fold: 5 | ccp_alpha: 0.009359 | impurity: 0.291\n",
      "iter_counter: 86 | fold: 1 | ccp_alpha: 0.009595 | impurity: 0.301\n",
      "iter_counter: 86 | fold: 2 | ccp_alpha: 0.009595 | impurity: 0.301\n",
      "iter_counter: 86 | fold: 3 | ccp_alpha: 0.009595 | impurity: 0.301\n",
      "iter_counter: 86 | fold: 4 | ccp_alpha: 0.009595 | impurity: 0.301\n",
      "iter_counter: 86 | fold: 5 | ccp_alpha: 0.009595 | impurity: 0.301\n",
      "iter_counter: 87 | fold: 1 | ccp_alpha: 0.009621 | impurity: 0.31\n",
      "iter_counter: 87 | fold: 2 | ccp_alpha: 0.009621 | impurity: 0.31\n",
      "iter_counter: 87 | fold: 3 | ccp_alpha: 0.009621 | impurity: 0.31\n",
      "iter_counter: 87 | fold: 4 | ccp_alpha: 0.009621 | impurity: 0.31\n",
      "iter_counter: 87 | fold: 5 | ccp_alpha: 0.009621 | impurity: 0.31\n",
      "iter_counter: 88 | fold: 1 | ccp_alpha: 0.011844 | impurity: 0.322\n",
      "iter_counter: 88 | fold: 2 | ccp_alpha: 0.011844 | impurity: 0.322\n",
      "iter_counter: 88 | fold: 3 | ccp_alpha: 0.011844 | impurity: 0.322\n",
      "iter_counter: 88 | fold: 4 | ccp_alpha: 0.011844 | impurity: 0.322\n",
      "iter_counter: 88 | fold: 5 | ccp_alpha: 0.011844 | impurity: 0.322\n",
      "iter_counter: 89 | fold: 1 | ccp_alpha: 0.015221 | impurity: 0.337\n",
      "iter_counter: 89 | fold: 2 | ccp_alpha: 0.015221 | impurity: 0.337\n",
      "iter_counter: 89 | fold: 3 | ccp_alpha: 0.015221 | impurity: 0.337\n",
      "iter_counter: 89 | fold: 4 | ccp_alpha: 0.015221 | impurity: 0.337\n",
      "iter_counter: 89 | fold: 5 | ccp_alpha: 0.015221 | impurity: 0.337\n",
      "iter_counter: 90 | fold: 1 | ccp_alpha: 0.016111 | impurity: 0.353\n",
      "iter_counter: 90 | fold: 2 | ccp_alpha: 0.016111 | impurity: 0.353\n",
      "iter_counter: 90 | fold: 3 | ccp_alpha: 0.016111 | impurity: 0.353\n",
      "iter_counter: 90 | fold: 4 | ccp_alpha: 0.016111 | impurity: 0.353\n",
      "iter_counter: 90 | fold: 5 | ccp_alpha: 0.016111 | impurity: 0.353\n",
      "iter_counter: 91 | fold: 1 | ccp_alpha: 0.017036 | impurity: 0.37\n",
      "iter_counter: 91 | fold: 2 | ccp_alpha: 0.017036 | impurity: 0.37\n",
      "iter_counter: 91 | fold: 3 | ccp_alpha: 0.017036 | impurity: 0.37\n",
      "iter_counter: 91 | fold: 4 | ccp_alpha: 0.017036 | impurity: 0.37\n",
      "iter_counter: 91 | fold: 5 | ccp_alpha: 0.017036 | impurity: 0.37\n",
      "iter_counter: 92 | fold: 1 | ccp_alpha: 0.024891 | impurity: 0.395\n",
      "iter_counter: 92 | fold: 2 | ccp_alpha: 0.024891 | impurity: 0.395\n",
      "iter_counter: 92 | fold: 3 | ccp_alpha: 0.024891 | impurity: 0.395\n",
      "iter_counter: 92 | fold: 4 | ccp_alpha: 0.024891 | impurity: 0.395\n",
      "iter_counter: 92 | fold: 5 | ccp_alpha: 0.024891 | impurity: 0.395\n",
      "iter_counter: 93 | fold: 1 | ccp_alpha: 0.026094 | impurity: 0.421\n",
      "iter_counter: 93 | fold: 2 | ccp_alpha: 0.026094 | impurity: 0.421\n",
      "iter_counter: 93 | fold: 3 | ccp_alpha: 0.026094 | impurity: 0.421\n",
      "iter_counter: 93 | fold: 4 | ccp_alpha: 0.026094 | impurity: 0.421\n",
      "iter_counter: 93 | fold: 5 | ccp_alpha: 0.026094 | impurity: 0.421\n",
      "iter_counter: 94 | fold: 1 | ccp_alpha: 0.02791 | impurity: 0.449\n",
      "iter_counter: 94 | fold: 2 | ccp_alpha: 0.02791 | impurity: 0.449\n",
      "iter_counter: 94 | fold: 3 | ccp_alpha: 0.02791 | impurity: 0.449\n",
      "iter_counter: 94 | fold: 4 | ccp_alpha: 0.02791 | impurity: 0.449\n",
      "iter_counter: 94 | fold: 5 | ccp_alpha: 0.02791 | impurity: 0.449\n",
      "iter_counter: 95 | fold: 1 | ccp_alpha: 0.033149 | impurity: 0.482\n",
      "iter_counter: 95 | fold: 2 | ccp_alpha: 0.033149 | impurity: 0.482\n",
      "iter_counter: 95 | fold: 3 | ccp_alpha: 0.033149 | impurity: 0.482\n",
      "iter_counter: 95 | fold: 4 | ccp_alpha: 0.033149 | impurity: 0.482\n",
      "iter_counter: 95 | fold: 5 | ccp_alpha: 0.033149 | impurity: 0.482\n",
      "iter_counter: 96 | fold: 1 | ccp_alpha: 0.04883 | impurity: 0.531\n",
      "iter_counter: 96 | fold: 2 | ccp_alpha: 0.04883 | impurity: 0.531\n",
      "iter_counter: 96 | fold: 3 | ccp_alpha: 0.04883 | impurity: 0.531\n",
      "iter_counter: 96 | fold: 4 | ccp_alpha: 0.04883 | impurity: 0.531\n",
      "iter_counter: 96 | fold: 5 | ccp_alpha: 0.04883 | impurity: 0.531\n",
      "iter_counter: 97 | fold: 1 | ccp_alpha: 0.152314 | impurity: 0.684\n",
      "iter_counter: 97 | fold: 2 | ccp_alpha: 0.152314 | impurity: 0.684\n",
      "iter_counter: 97 | fold: 3 | ccp_alpha: 0.152314 | impurity: 0.684\n",
      "iter_counter: 97 | fold: 4 | ccp_alpha: 0.152314 | impurity: 0.684\n",
      "iter_counter: 97 | fold: 5 | ccp_alpha: 0.152314 | impurity: 0.684\n",
      "iter_counter: 98 | fold: 1 | ccp_alpha: 0.174913 | impurity: 0.859\n",
      "iter_counter: 98 | fold: 2 | ccp_alpha: 0.174913 | impurity: 0.859\n",
      "iter_counter: 98 | fold: 3 | ccp_alpha: 0.174913 | impurity: 0.859\n",
      "iter_counter: 98 | fold: 4 | ccp_alpha: 0.174913 | impurity: 0.859\n",
      "iter_counter: 98 | fold: 5 | ccp_alpha: 0.174913 | impurity: 0.859\n",
      "iter_counter: 99 | fold: 1 | ccp_alpha: 0.225876 | impurity: 1.084\n",
      "iter_counter: 99 | fold: 2 | ccp_alpha: 0.225876 | impurity: 1.084\n",
      "iter_counter: 99 | fold: 3 | ccp_alpha: 0.225876 | impurity: 1.084\n",
      "iter_counter: 99 | fold: 4 | ccp_alpha: 0.225876 | impurity: 1.084\n"
     ]
    },
    {
     "name": "stdout",
     "output_type": "stream",
     "text": [
      "iter_counter: 99 | fold: 5 | ccp_alpha: 0.225876 | impurity: 1.084\n",
      "iter_counter: 100 | fold: 1 | ccp_alpha: 0.500787 | impurity: 1.585\n",
      "iter_counter: 100 | fold: 2 | ccp_alpha: 0.500787 | impurity: 1.585\n",
      "iter_counter: 100 | fold: 3 | ccp_alpha: 0.500787 | impurity: 1.585\n",
      "iter_counter: 100 | fold: 4 | ccp_alpha: 0.500787 | impurity: 1.585\n",
      "iter_counter: 100 | fold: 5 | ccp_alpha: 0.500787 | impurity: 1.585\n",
      "iter_counter: 101 | fold: 1 | ccp_alpha: 0.99367 | impurity: 2.579\n",
      "iter_counter: 101 | fold: 2 | ccp_alpha: 0.99367 | impurity: 2.579\n",
      "iter_counter: 101 | fold: 3 | ccp_alpha: 0.99367 | impurity: 2.579\n",
      "iter_counter: 101 | fold: 4 | ccp_alpha: 0.99367 | impurity: 2.579\n",
      "iter_counter: 101 | fold: 5 | ccp_alpha: 0.99367 | impurity: 2.579\n"
     ]
    }
   ],
   "source": [
    "#Initialize an empty list of models\n",
    "decision_tree_ccps = []\n",
    "#Initialize an empty data frame for recording results\n",
    "cross_validation_results = pd.DataFrame(columns = [\"iter_counter\",\n",
    "                                                   \"ccp_alpha\",\n",
    "                                                   \"fold\",\n",
    "                                                   \"in_fold_score\",\n",
    "                                                   \"out_fold_score\"])\n",
    "\n",
    "#Start an iteration counter\n",
    "iter_counter = 0\n",
    "\n",
    "#For each ccp\n",
    "for ccp_alpha in ccp_alphas:\n",
    "    \n",
    "    #Increment the counter\n",
    "    iter_counter = iter_counter + 1\n",
    "    \n",
    "    #For each fold\n",
    "    for fold in folds:\n",
    "        \n",
    "        #Debugging\n",
    "        #ccp_alpha = .0004\n",
    "        #fold = 1\n",
    "        \n",
    "        #Output message\n",
    "        print(\"iter_counter:\", iter_counter,\n",
    "              \"| fold:\", fold,\n",
    "              \"| ccp_alpha:\", ccp_alpha,\n",
    "              \"| impurity:\", impurities[iter_counter - 1])\n",
    "        \n",
    "        #Train on 4 out of 5 folds\n",
    "        train_fold_features = data_cv[data_cv[\"fold\"] != fold][features]\n",
    "        train_fold_response = data_cv[data_cv[\"fold\"] != fold][response]\n",
    "        \n",
    "        #Test on the current fold\n",
    "        test_fold_features = data_cv[data_cv[\"fold\"] == fold][features]\n",
    "        test_fold_response = data_cv[data_cv[\"fold\"] == fold][response]\n",
    "\n",
    "        #Get the decision tree object\n",
    "        decision_tree_ccp = DecisionTreeClassifier(criterion = \"entropy\",\n",
    "                                                   splitter = \"best\",\n",
    "                                                   max_depth = None,\n",
    "                                                   min_samples_split = 2,\n",
    "                                                   min_samples_leaf = 1,\n",
    "                                                   min_weight_fraction_leaf = 0.0,\n",
    "                                                   max_features = None,\n",
    "                                                   random_state = 28,\n",
    "                                                   max_leaf_nodes = None,\n",
    "                                                   min_impurity_decrease = 0.0,\n",
    "                                                   class_weight = None,\n",
    "                                                   ccp_alpha = ccp_alpha)\n",
    "        \n",
    "        #Fit the model\n",
    "        decision_tree_ccp.fit(train_fold_features, train_fold_response)\n",
    "        #Append the model to the list of models\n",
    "        decision_tree_ccps.append(decision_tree_ccp)\n",
    "        \n",
    "        #Evaluate the model\n",
    "        #In fold\n",
    "        in_fold_score = decision_tree_ccp.score(train_fold_features, train_fold_response)\n",
    "        #Out of fold\n",
    "        out_fold_score = decision_tree_ccp.score(test_fold_features, test_fold_response)\n",
    "        \n",
    "        #Add to results list\n",
    "        cross_validation_results = cross_validation_results.append({\"iter_counter\": iter_counter,\n",
    "                                                                    \"ccp_alpha\": ccp_alpha,\n",
    "                                                                    \"fold\": fold,\n",
    "                                                                    \"in_fold_score\": in_fold_score,\n",
    "                                                                    \"out_fold_score\": out_fold_score},\n",
    "                                                                 ignore_index = True)"
   ]
  },
  {
   "cell_type": "code",
   "execution_count": 13,
   "metadata": {},
   "outputs": [
    {
     "name": "stdout",
     "output_type": "stream",
     "text": [
      "Number of nodes in the last tree is: 1 with ccp_alpha: 0.99367\n"
     ]
    }
   ],
   "source": [
    "print(\"Number of nodes in the last tree is:\", decision_tree_ccps[-1].tree_.node_count,\n",
    "      \"with ccp_alpha:\", ccp_alphas[-1])"
   ]
  },
  {
   "cell_type": "markdown",
   "metadata": {},
   "source": [
    "## Output"
   ]
  },
  {
   "cell_type": "code",
   "execution_count": 14,
   "metadata": {},
   "outputs": [
    {
     "data": {
      "text/html": [
       "<div>\n",
       "<style scoped>\n",
       "    .dataframe tbody tr th:only-of-type {\n",
       "        vertical-align: middle;\n",
       "    }\n",
       "\n",
       "    .dataframe tbody tr th {\n",
       "        vertical-align: top;\n",
       "    }\n",
       "\n",
       "    .dataframe thead th {\n",
       "        text-align: right;\n",
       "    }\n",
       "</style>\n",
       "<table border=\"1\" class=\"dataframe\">\n",
       "  <thead>\n",
       "    <tr style=\"text-align: right;\">\n",
       "      <th></th>\n",
       "      <th>iter_counter</th>\n",
       "      <th>ccp_alpha</th>\n",
       "      <th>fold</th>\n",
       "      <th>in_fold_score</th>\n",
       "      <th>out_fold_score</th>\n",
       "    </tr>\n",
       "  </thead>\n",
       "  <tbody>\n",
       "    <tr>\n",
       "      <th>0</th>\n",
       "      <td>1.0</td>\n",
       "      <td>0.00000</td>\n",
       "      <td>1.0</td>\n",
       "      <td>1.000000</td>\n",
       "      <td>0.952285</td>\n",
       "    </tr>\n",
       "    <tr>\n",
       "      <th>1</th>\n",
       "      <td>1.0</td>\n",
       "      <td>0.00000</td>\n",
       "      <td>2.0</td>\n",
       "      <td>1.000000</td>\n",
       "      <td>0.935661</td>\n",
       "    </tr>\n",
       "    <tr>\n",
       "      <th>2</th>\n",
       "      <td>1.0</td>\n",
       "      <td>0.00000</td>\n",
       "      <td>3.0</td>\n",
       "      <td>1.000000</td>\n",
       "      <td>0.950908</td>\n",
       "    </tr>\n",
       "    <tr>\n",
       "      <th>3</th>\n",
       "      <td>1.0</td>\n",
       "      <td>0.00000</td>\n",
       "      <td>4.0</td>\n",
       "      <td>1.000000</td>\n",
       "      <td>0.945742</td>\n",
       "    </tr>\n",
       "    <tr>\n",
       "      <th>4</th>\n",
       "      <td>1.0</td>\n",
       "      <td>0.00000</td>\n",
       "      <td>5.0</td>\n",
       "      <td>1.000000</td>\n",
       "      <td>0.939726</td>\n",
       "    </tr>\n",
       "    <tr>\n",
       "      <th>...</th>\n",
       "      <td>...</td>\n",
       "      <td>...</td>\n",
       "      <td>...</td>\n",
       "      <td>...</td>\n",
       "      <td>...</td>\n",
       "    </tr>\n",
       "    <tr>\n",
       "      <th>500</th>\n",
       "      <td>101.0</td>\n",
       "      <td>0.99367</td>\n",
       "      <td>1.0</td>\n",
       "      <td>0.189973</td>\n",
       "      <td>0.196909</td>\n",
       "    </tr>\n",
       "    <tr>\n",
       "      <th>501</th>\n",
       "      <td>101.0</td>\n",
       "      <td>0.99367</td>\n",
       "      <td>2.0</td>\n",
       "      <td>0.192667</td>\n",
       "      <td>0.186174</td>\n",
       "    </tr>\n",
       "    <tr>\n",
       "      <th>502</th>\n",
       "      <td>101.0</td>\n",
       "      <td>0.99367</td>\n",
       "      <td>3.0</td>\n",
       "      <td>0.190963</td>\n",
       "      <td>0.193006</td>\n",
       "    </tr>\n",
       "    <tr>\n",
       "      <th>503</th>\n",
       "      <td>101.0</td>\n",
       "      <td>0.99367</td>\n",
       "      <td>4.0</td>\n",
       "      <td>0.189620</td>\n",
       "      <td>0.198489</td>\n",
       "    </tr>\n",
       "    <tr>\n",
       "      <th>504</th>\n",
       "      <td>101.0</td>\n",
       "      <td>0.99367</td>\n",
       "      <td>5.0</td>\n",
       "      <td>0.193652</td>\n",
       "      <td>0.182192</td>\n",
       "    </tr>\n",
       "  </tbody>\n",
       "</table>\n",
       "<p>505 rows × 5 columns</p>\n",
       "</div>"
      ],
      "text/plain": [
       "     iter_counter  ccp_alpha  fold  in_fold_score  out_fold_score\n",
       "0             1.0    0.00000   1.0       1.000000        0.952285\n",
       "1             1.0    0.00000   2.0       1.000000        0.935661\n",
       "2             1.0    0.00000   3.0       1.000000        0.950908\n",
       "3             1.0    0.00000   4.0       1.000000        0.945742\n",
       "4             1.0    0.00000   5.0       1.000000        0.939726\n",
       "..            ...        ...   ...            ...             ...\n",
       "500         101.0    0.99367   1.0       0.189973        0.196909\n",
       "501         101.0    0.99367   2.0       0.192667        0.186174\n",
       "502         101.0    0.99367   3.0       0.190963        0.193006\n",
       "503         101.0    0.99367   4.0       0.189620        0.198489\n",
       "504         101.0    0.99367   5.0       0.193652        0.182192\n",
       "\n",
       "[505 rows x 5 columns]"
      ]
     },
     "execution_count": 14,
     "metadata": {},
     "output_type": "execute_result"
    }
   ],
   "source": [
    "cross_validation_results.to_csv(directory + \"sensor_decision_tree_cv.csv\", index = False)\n",
    "cross_validation_results"
   ]
  },
  {
   "cell_type": "markdown",
   "metadata": {},
   "source": [
    "### Get the cross-validation summary"
   ]
  },
  {
   "cell_type": "code",
   "execution_count": 15,
   "metadata": {},
   "outputs": [
    {
     "data": {
      "text/html": [
       "<div>\n",
       "<style scoped>\n",
       "    .dataframe tbody tr th:only-of-type {\n",
       "        vertical-align: middle;\n",
       "    }\n",
       "\n",
       "    .dataframe tbody tr th {\n",
       "        vertical-align: top;\n",
       "    }\n",
       "\n",
       "    .dataframe thead th {\n",
       "        text-align: right;\n",
       "    }\n",
       "</style>\n",
       "<table border=\"1\" class=\"dataframe\">\n",
       "  <thead>\n",
       "    <tr style=\"text-align: right;\">\n",
       "      <th></th>\n",
       "      <th>iter_counter</th>\n",
       "      <th>ccp_alpha</th>\n",
       "      <th>fold</th>\n",
       "      <th>in_fold_score</th>\n",
       "      <th>out_fold_score</th>\n",
       "    </tr>\n",
       "  </thead>\n",
       "  <tbody>\n",
       "    <tr>\n",
       "      <th>0</th>\n",
       "      <td>1.0</td>\n",
       "      <td>0.00000</td>\n",
       "      <td>1.0</td>\n",
       "      <td>1.000000</td>\n",
       "      <td>0.952285</td>\n",
       "    </tr>\n",
       "    <tr>\n",
       "      <th>1</th>\n",
       "      <td>1.0</td>\n",
       "      <td>0.00000</td>\n",
       "      <td>2.0</td>\n",
       "      <td>1.000000</td>\n",
       "      <td>0.935661</td>\n",
       "    </tr>\n",
       "    <tr>\n",
       "      <th>2</th>\n",
       "      <td>1.0</td>\n",
       "      <td>0.00000</td>\n",
       "      <td>3.0</td>\n",
       "      <td>1.000000</td>\n",
       "      <td>0.950908</td>\n",
       "    </tr>\n",
       "    <tr>\n",
       "      <th>3</th>\n",
       "      <td>1.0</td>\n",
       "      <td>0.00000</td>\n",
       "      <td>4.0</td>\n",
       "      <td>1.000000</td>\n",
       "      <td>0.945742</td>\n",
       "    </tr>\n",
       "    <tr>\n",
       "      <th>4</th>\n",
       "      <td>1.0</td>\n",
       "      <td>0.00000</td>\n",
       "      <td>5.0</td>\n",
       "      <td>1.000000</td>\n",
       "      <td>0.939726</td>\n",
       "    </tr>\n",
       "    <tr>\n",
       "      <th>...</th>\n",
       "      <td>...</td>\n",
       "      <td>...</td>\n",
       "      <td>...</td>\n",
       "      <td>...</td>\n",
       "      <td>...</td>\n",
       "    </tr>\n",
       "    <tr>\n",
       "      <th>500</th>\n",
       "      <td>101.0</td>\n",
       "      <td>0.99367</td>\n",
       "      <td>1.0</td>\n",
       "      <td>0.189973</td>\n",
       "      <td>0.196909</td>\n",
       "    </tr>\n",
       "    <tr>\n",
       "      <th>501</th>\n",
       "      <td>101.0</td>\n",
       "      <td>0.99367</td>\n",
       "      <td>2.0</td>\n",
       "      <td>0.192667</td>\n",
       "      <td>0.186174</td>\n",
       "    </tr>\n",
       "    <tr>\n",
       "      <th>502</th>\n",
       "      <td>101.0</td>\n",
       "      <td>0.99367</td>\n",
       "      <td>3.0</td>\n",
       "      <td>0.190963</td>\n",
       "      <td>0.193006</td>\n",
       "    </tr>\n",
       "    <tr>\n",
       "      <th>503</th>\n",
       "      <td>101.0</td>\n",
       "      <td>0.99367</td>\n",
       "      <td>4.0</td>\n",
       "      <td>0.189620</td>\n",
       "      <td>0.198489</td>\n",
       "    </tr>\n",
       "    <tr>\n",
       "      <th>504</th>\n",
       "      <td>101.0</td>\n",
       "      <td>0.99367</td>\n",
       "      <td>5.0</td>\n",
       "      <td>0.193652</td>\n",
       "      <td>0.182192</td>\n",
       "    </tr>\n",
       "  </tbody>\n",
       "</table>\n",
       "<p>505 rows × 5 columns</p>\n",
       "</div>"
      ],
      "text/plain": [
       "     iter_counter  ccp_alpha  fold  in_fold_score  out_fold_score\n",
       "0             1.0    0.00000   1.0       1.000000        0.952285\n",
       "1             1.0    0.00000   2.0       1.000000        0.935661\n",
       "2             1.0    0.00000   3.0       1.000000        0.950908\n",
       "3             1.0    0.00000   4.0       1.000000        0.945742\n",
       "4             1.0    0.00000   5.0       1.000000        0.939726\n",
       "..            ...        ...   ...            ...             ...\n",
       "500         101.0    0.99367   1.0       0.189973        0.196909\n",
       "501         101.0    0.99367   2.0       0.192667        0.186174\n",
       "502         101.0    0.99367   3.0       0.190963        0.193006\n",
       "503         101.0    0.99367   4.0       0.189620        0.198489\n",
       "504         101.0    0.99367   5.0       0.193652        0.182192\n",
       "\n",
       "[505 rows x 5 columns]"
      ]
     },
     "execution_count": 15,
     "metadata": {},
     "output_type": "execute_result"
    }
   ],
   "source": [
    "cross_validation_results = pd.read_csv(directory + \"sensor_decision_tree_cv.csv\")\n",
    "cross_validation_results"
   ]
  },
  {
   "cell_type": "markdown",
   "metadata": {},
   "source": [
    "### Learning curve"
   ]
  },
  {
   "cell_type": "code",
   "execution_count": 17,
   "metadata": {},
   "outputs": [
    {
     "data": {
      "image/png": "[encoded data removed]",
      "text/plain": [
       "<Figure size 432x288 with 1 Axes>"
      ]
     },
     "metadata": {
      "needs_background": "light"
     },
     "output_type": "display_data"
    }
   ],
   "source": [
    "in_fold_c_summary = cross_validation_results.groupby(\"ccp_alpha\")[\"in_fold_score\"].agg([\"mean\"]).sort_values(by = [\"mean\"], ascending = False)\n",
    "out_fold_c_summary = cross_validation_results.groupby(\"ccp_alpha\")[\"out_fold_score\"].agg([\"mean\"]).sort_values(by = [\"mean\"], ascending = False)\n",
    "fig, ax = plt.subplots()\n",
    "\n",
    "ax.set_xlabel(\"Alpha\")\n",
    "ax.set_ylabel(\"Accuracy\")\n",
    "#ax.set_xlim(.0, .007)\n",
    "ax.set_title(\"Sensor decision tree mean accuracy vs alpha complexity\")\n",
    "ax.plot(cross_validation_results[\"ccp_alpha\"].unique(),\n",
    "        in_fold_c_summary[\"mean\"],\n",
    "        label = \"in-fold\")\n",
    "ax.plot(cross_validation_results[\"ccp_alpha\"].unique(),\n",
    "        out_fold_c_summary[\"mean\"],\n",
    "        label = \"out-fold\")\n",
    "ax.legend()\n",
    "\n",
    "fig.tight_layout()"
   ]
  },
  {
   "cell_type": "markdown",
   "metadata": {},
   "source": [
    "### Train a final model with the optimal complexity"
   ]
  },
  {
   "cell_type": "code",
   "execution_count": 18,
   "metadata": {},
   "outputs": [
    {
     "name": "stdout",
     "output_type": "stream",
     "text": [
      "Decision tree accuracy on training data:  0.9943656498931417\n",
      "Decision tree accuracy on validation data:  0.9464852607709751\n",
      "Decision tree accuracy on test data:  0.8571428571428571\n"
     ]
    }
   ],
   "source": [
    "#Get the ccp alpha with the maximum out of fold score\n",
    "ccp_alpha_opt = out_fold_c_summary.index[np.argmax(out_fold_c_summary[\"mean\"])]\n",
    "decision_tree_model_final = DecisionTreeClassifier(criterion = \"entropy\",\n",
    "                                                     splitter = \"best\",\n",
    "                                                     max_depth = None,\n",
    "                                                     min_samples_split = 2,\n",
    "                                                     min_samples_leaf = 1,\n",
    "                                                     min_weight_fraction_leaf = 0.0,\n",
    "                                                     max_features = None,\n",
    "                                                     random_state = 28,\n",
    "                                                     max_leaf_nodes = None,\n",
    "                                                     min_impurity_decrease = 0.0,\n",
    "                                                     class_weight = None,\n",
    "                                                     ccp_alpha = ccp_alpha_opt)\n",
    "\n",
    "decision_tree_model_final.fit(train_features, train_response) \n",
    "\n",
    "print(\"Decision tree accuracy on training data: \",\n",
    "      decision_tree_model_final.score(train_features, train_response))\n",
    "print(\"Decision tree accuracy on validation data: \",\n",
    "      decision_tree_model_final.score(valid_features, valid_response))\n",
    "print(\"Decision tree accuracy on test data: \",\n",
    "      decision_tree_model_final.score(test_features, test_response))"
   ]
  },
  {
   "cell_type": "code",
   "execution_count": 19,
   "metadata": {},
   "outputs": [],
   "source": [
    "train_scores = [decision_tree_ccp.score(train_features, train_response) for decision_tree_ccp in decision_tree_ccps]\n",
    "valid_scores = [decision_tree_ccp.score(valid_features, valid_response) for decision_tree_ccp in decision_tree_ccps]\n",
    "test_scores = [decision_tree_ccp.score(test_features, test_response) for decision_tree_ccp in decision_tree_ccps]"
   ]
  },
  {
   "cell_type": "code",
   "execution_count": 20,
   "metadata": {},
   "outputs": [
    {
     "name": "stdout",
     "output_type": "stream",
     "text": [
      "0.9906741791334758\n",
      "0.9909297052154195\n",
      "0.8700373260943333\n"
     ]
    }
   ],
   "source": [
    "print(max(train_scores))\n",
    "print(max(valid_scores))\n",
    "print(max(test_scores))"
   ]
  },
  {
   "cell_type": "markdown",
   "metadata": {},
   "source": [
    "### Function of training size"
   ]
  },
  {
   "cell_type": "code",
   "execution_count": 21,
   "metadata": {},
   "outputs": [
    {
     "name": "stdout",
     "output_type": "stream",
     "text": [
      "iter_counter: 1 | train size: 0.05\n",
      "iter_counter: 2 | train size: 0.1\n",
      "iter_counter: 3 | train size: 0.15\n",
      "iter_counter: 4 | train size: 0.2\n",
      "iter_counter: 5 | train size: 0.25\n",
      "iter_counter: 6 | train size: 0.3\n",
      "iter_counter: 7 | train size: 0.35\n",
      "iter_counter: 8 | train size: 0.39999999999999997\n",
      "iter_counter: 9 | train size: 0.44999999999999996\n",
      "iter_counter: 10 | train size: 0.49999999999999994\n",
      "iter_counter: 11 | train size: 0.5499999999999999\n",
      "iter_counter: 12 | train size: 0.6\n",
      "iter_counter: 13 | train size: 0.65\n",
      "iter_counter: 14 | train size: 0.7\n",
      "iter_counter: 15 | train size: 0.75\n",
      "iter_counter: 16 | train size: 0.7999999999999999\n",
      "iter_counter: 17 | train size: 0.85\n",
      "iter_counter: 18 | train size: 0.9\n",
      "iter_counter: 19 | train size: 0.95\n"
     ]
    }
   ],
   "source": [
    "decision_tree_train_sizes = []\n",
    "decision_tree_train_size_train_scores = []\n",
    "decision_tree_train_size_test_scores = []\n",
    "decision_tree_train_size_train_time = []\n",
    "decision_tree_train_size_score_time = []\n",
    "\n",
    "#Start a counter\n",
    "iter_counter = 0\n",
    "\n",
    "#Training set sizes\n",
    "train_sizes = np.linspace(.05,.95, 19)\n",
    "\n",
    "#For each training set size\n",
    "for train_size in train_sizes:\n",
    "    \n",
    "    #Increment the counter\n",
    "    iter_counter = iter_counter + 1\n",
    "    \n",
    "    #Output m essage\n",
    "    print(\"iter_counter:\", iter_counter,\n",
    "          \"| train size:\", train_size)\n",
    "    \n",
    "    (train_features_train_size, test_features_train_size,\n",
    "    train_response_train_size, test_response_train_size) = train_test_split(data_all_features,\n",
    "                                                                            data_all_response,\n",
    "                                                                            train_size = train_size,\n",
    "                                                                            random_state = 28)\n",
    "    \n",
    "    #Get the decision tree object\n",
    "    decision_tree_train_size = DecisionTreeClassifier(criterion = \"entropy\",\n",
    "                                                      splitter = \"best\",\n",
    "                                                      max_depth = None,\n",
    "                                                      min_samples_split = 2,\n",
    "                                                      min_samples_leaf = 1,\n",
    "                                                      min_weight_fraction_leaf = 0.0,\n",
    "                                                      max_features = None,\n",
    "                                                      random_state = 28,\n",
    "                                                      max_leaf_nodes = None,\n",
    "                                                      min_impurity_decrease = 0.0,\n",
    "                                                      class_weight = None,\n",
    "                                                      ccp_alpha = ccp_alpha_opt)\n",
    "    \n",
    "    #Start the timer\n",
    "    start = time.time()\n",
    "    #Fit the model\n",
    "    decision_tree_train_size.fit(train_features_train_size, train_response_train_size)\n",
    "    #End the timer\n",
    "    end = time.time()\n",
    "    #Add to list of training times\n",
    "    decision_tree_train_size_train_time.append(end - start)\n",
    "\n",
    "    decision_tree_train_sizes.append(decision_tree_train_size)\n",
    "    \n",
    "    #Start the scoring timer\n",
    "    start = time.time()\n",
    "    #Score the model\n",
    "    decision_tree_train_size_train_scores.append(decision_tree_train_size.score(train_features_train_size, train_response_train_size)) \n",
    "    #End the timer\n",
    "    end = time.time()\n",
    "    #Add to the list of prediction times\n",
    "    decision_tree_train_size_score_time.append(end - start)\n",
    "\n",
    "    #Add to the scores list\n",
    "    decision_tree_train_size_test_scores.append(decision_tree_train_size.score(test_features_train_size, test_response_train_size))\n",
    "    "
   ]
  },
  {
   "cell_type": "markdown",
   "metadata": {},
   "source": [
    "### Plotting the learning curve by training size, for a fixed complexity"
   ]
  },
  {
   "cell_type": "code",
   "execution_count": 22,
   "metadata": {},
   "outputs": [
    {
     "data": {
      "image/png": "[encoded data removed]",
      "text/plain": [
       "<Figure size 432x288 with 1 Axes>"
      ]
     },
     "metadata": {
      "needs_background": "light"
     },
     "output_type": "display_data"
    }
   ],
   "source": [
    "fig, ax = plt.subplots()\n",
    "\n",
    "ax.set_xlabel(\"Training size\")\n",
    "ax.set_ylabel(\"Accuracy\")\n",
    "ax.set_title(\"Sensor decision tree accuracy vs training size\")\n",
    "ax.plot(train_sizes, decision_tree_train_size_train_scores, label = \"training\",\n",
    "        #drawstyle = \"steps-post\"\n",
    "       )\n",
    "ax.plot(train_sizes, decision_tree_train_size_test_scores, label = \"test\",\n",
    "        #drawstyle = \"steps-post\"\n",
    "       )\n",
    "ax.legend()\n",
    "\n",
    "fig.tight_layout()"
   ]
  },
  {
   "cell_type": "markdown",
   "metadata": {},
   "source": [
    "###  Plotting the model fitting time as a function of the training size"
   ]
  },
  {
   "cell_type": "code",
   "execution_count": 23,
   "metadata": {},
   "outputs": [
    {
     "data": {
      "image/png": "[encoded data removed]",
      "text/plain": [
       "<Figure size 432x288 with 1 Axes>"
      ]
     },
     "metadata": {
      "needs_background": "light"
     },
     "output_type": "display_data"
    }
   ],
   "source": [
    "fig, ax = plt.subplots()\n",
    "\n",
    "ax.set_xlabel(\"Training size\")\n",
    "ax.set_ylabel(\"Model fitting time (seconds)\")\n",
    "ax.set_title(\"Sensor decision tree model fitting time vs training size\")\n",
    "ax.plot(train_sizes, decision_tree_train_size_train_time, label = \"training\",\n",
    "        #drawstyle = \"steps-post\"\n",
    "       )\n",
    "\n",
    "fig.tight_layout()"
   ]
  },
  {
   "cell_type": "markdown",
   "metadata": {},
   "source": [
    "### Plotting the model scoring time as a function of the training size"
   ]
  },
  {
   "cell_type": "code",
   "execution_count": 24,
   "metadata": {
    "scrolled": true
   },
   "outputs": [
    {
     "data": {
      "image/png": "[encoded data removed]",
      "text/plain": [
       "<Figure size 432x288 with 1 Axes>"
      ]
     },
     "metadata": {
      "needs_background": "light"
     },
     "output_type": "display_data"
    }
   ],
   "source": [
    "fig, ax = plt.subplots()\n",
    "\n",
    "ax.set_xlabel(\"Training size\")\n",
    "ax.set_ylabel(\"Model scoring time (seconds)\")\n",
    "ax.set_title(\"Sensor decision tree model scoring time vs training size\")\n",
    "ax.plot(train_sizes, decision_tree_train_size_score_time, label = \"training\",\n",
    "        #drawstyle = \"steps-post\"\n",
    "       )\n",
    "\n",
    "fig.tight_layout()"
   ]
  },
  {
   "cell_type": "code",
   "execution_count": null,
   "metadata": {},
   "outputs": [],
   "source": [
    "Yes "
   ]
  }
 ],
 "metadata": {
  "kernelspec": {
   "display_name": "Python 3",
   "language": "python",
   "name": "python3"
  },
  "language_info": {
   "codemirror_mode": {
    "name": "ipython",
    "version": 3
   },
   "file_extension": ".py",
   "mimetype": "text/x-python",
   "name": "python",
   "nbconvert_exporter": "python",
   "pygments_lexer": "ipython3",
   "version": "3.8.5"
  }
 },
 "nbformat": 4,
 "nbformat_minor": 4
}
